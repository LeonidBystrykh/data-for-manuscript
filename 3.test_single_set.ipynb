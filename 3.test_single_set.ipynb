{
 "cells": [
  {
   "cell_type": "markdown",
   "metadata": {},
   "source": [
    "This script uses precalculated AgingList file.\n",
    "Run make_aging_list.py first if you do not have it.\n",
    "\n",
    "It also uses the file with differentially expressed genes, which you want to test on how well it fits to the aging signature. \n",
    "\n",
    "First, import nesessary packages and the AginList from file. It can be either \n",
    "Aging_list_META.txt (for meta data) or Aging_list_REAN.txt (for reanalyzed data)."
   ]
  },
  {
   "cell_type": "code",
   "execution_count": 1,
   "metadata": {},
   "outputs": [],
   "source": [
    "import matplotlib.pyplot as plt, scipy.stats as ss, numpy as np\n",
    "\n",
    "\"input file with precalculated signature gene list\"\n",
    "f_in=open(\"Aging_list_META.txt\",\"r\") #or Aging_list_REAN.txt\n",
    "lines=f_in.readlines()\n",
    "f_in.close()\n",
    "#split lines by proper separator: \\t for tabs, otherwise modify split symbol below accordingly\n",
    "items=[line.rstrip().split(\"\\t\") for line in lines[1:]]\n",
    "#collect gene names and citation frequencies, logFC values are not used here, therefore not collected\n",
    "names, freqs =[x[0] for x in items], [int(x[1]) for x in items]\n",
    "#sort lists\n",
    "sort=sorted(zip(freqs,names), reverse=True)"
   ]
  },
  {
   "cell_type": "markdown",
   "metadata": {},
   "source": [
    "Check the macimal citation value, which is the first freq on the list\n",
    "Also check the total list size by calling its length"
   ]
  },
  {
   "cell_type": "code",
   "execution_count": 2,
   "metadata": {},
   "outputs": [
    {
     "name": "stdout",
     "output_type": "stream",
     "text": [
      "mymax and all list 9 6314\n"
     ]
    }
   ],
   "source": [
    "mymax=sort[0][0]\n",
    "print(\"mymax and all list\",mymax, len(sort))"
   ]
  },
  {
   "cell_type": "markdown",
   "metadata": {},
   "source": [
    "Split zipped list on GeneScore (a.k.a. citation value) and Genes (gene names)"
   ]
  },
  {
   "cell_type": "code",
   "execution_count": 3,
   "metadata": {},
   "outputs": [],
   "source": [
    "\"Split sort list on gene names and gene scores\"\n",
    "GeneScore, Genes =[x[0] for x in sort], [x[1] for x in sort]"
   ]
  },
  {
   "cell_type": "markdown",
   "metadata": {},
   "source": [
    "you can check what you got, or skip it"
   ]
  },
  {
   "cell_type": "code",
   "execution_count": 4,
   "metadata": {},
   "outputs": [
    {
     "name": "stdout",
     "output_type": "stream",
     "text": [
      "GeneScore 6314\n",
      "Genes 6314\n"
     ]
    }
   ],
   "source": [
    "print(\"GeneScore\", len(GeneScore))#, GeneScore) #a.k.a. rank score\n",
    "print(\"Genes\", len(Genes))#, Genes)"
   ]
  },
  {
   "cell_type": "markdown",
   "metadata": {},
   "source": [
    "We will need to make so-called control points, which will be used to generate a dGSE plot.\n",
    "These are cumulative values of gene numbers with citation index above the threshold, the threshold is floating for every index value from 1 to maximum of citation index on the list"
   ]
  },
  {
   "cell_type": "code",
   "execution_count": 5,
   "metadata": {},
   "outputs": [
    {
     "name": "stdout",
     "output_type": "stream",
     "text": [
      "make control points for DGSE plot\n",
      "[1, 2, 4, 15, 52, 142, 383, 1306, 6314]\n",
      "6314\n",
      "calculate cumulative % in control points\n",
      "9 1 0.015837820715869498\n",
      "8 2 0.031675641431738996\n",
      "7 4 0.06335128286347799\n",
      "6 15 0.23756731073804244\n",
      "5 52 0.8235666772252138\n",
      "4 142 2.2489705416534687\n",
      "3 383 6.0658853341780175\n",
      "2 1306 20.684193854925564\n",
      "1 6314 100.0\n"
     ]
    }
   ],
   "source": [
    "print(\"make control points for DGSE plot\")\n",
    "controls=[]\n",
    "for i in range(0,max(GeneScore)):\n",
    "    controls.append(len([x for x in GeneScore if x>i]))\n",
    "control_points=controls[::-1] #reverse order\n",
    "print(control_points) #[1, 4, 7, 16, 22, 57, 103, 185, 344, 875, 4024]\n",
    "print(control_points[-1])\n",
    "print(\"calculate cumulative % in control points\")\n",
    "for i in range(len(control_points)):\n",
    "    print(len(control_points)-i, control_points[i], control_points[i]*100/control_points[-1])"
   ]
  },
  {
   "cell_type": "markdown",
   "metadata": {},
   "source": [
    "We empirically define the control point at which we will later calculate the enrichment coefficient. For META data we can choose either all genes with GEneScore>3 (2.25%), or GeneScore>2 (6.07%). So we set a threshold at 142 genes cumulative"
   ]
  },
  {
   "cell_type": "code",
   "execution_count": 6,
   "metadata": {},
   "outputs": [],
   "source": [
    "thresh=142"
   ]
  },
  {
   "cell_type": "markdown",
   "metadata": {},
   "source": [
    "Next, we open a file with the list of differentially expressed genes. For this analysis we only need gene names. Here we take one example from meta data."
   ]
  },
  {
   "cell_type": "code",
   "execution_count": 7,
   "metadata": {},
   "outputs": [],
   "source": [
    "\"single file for dGSE plot\"\n",
    "mdir=\"/Users/leonid_bystrykh/Documents/Articles&Presentations/2020/AgingSign/data/meta/\"\n",
    "mfile=\"Noda_2009.txt\"\n",
    "f_in=open(mdir+mfile,\"r\")\n",
    "lines=f_in.readlines()\n",
    "f_in.close()\n",
    "names=[]\n",
    "for line in lines[2:]:\n",
    "    items=line.rstrip().replace(\" \",\"\").split(\"\\t\")\n",
    "    item=items[1].split(\"///\")\n",
    "    names.append(item[0])"
   ]
  },
  {
   "cell_type": "markdown",
   "metadata": {},
   "source": [
    "Let's how many gene names are there, and print first 5 or them"
   ]
  },
  {
   "cell_type": "code",
   "execution_count": 8,
   "metadata": {},
   "outputs": [
    {
     "name": "stdout",
     "output_type": "stream",
     "text": [
      "Names in loaded file 168 ['1190002H23Rik', 'Apbb2', 'Cadm1', 'Cdkn1a', 'Cdkn2c']\n"
     ]
    }
   ],
   "source": [
    "print(\"Names in loaded file\", len(names), names[:5])"
   ]
  },
  {
   "cell_type": "markdown",
   "metadata": {},
   "source": [
    "Next, for all genes on the list we calculate their indexes in the AgingList\n",
    "Also we collect all scores from AgingList for all loaded genes. If gene from the loaded file is not on the AgingList, we assign 0 value"
   ]
  },
  {
   "cell_type": "code",
   "execution_count": 9,
   "metadata": {},
   "outputs": [],
   "source": [
    "shortlist,scores=[],[] #gene indexes and scores\n",
    "for name in names:\n",
    "    if name in Genes:\n",
    "        shortlist.append(Genes.index(name))\n",
    "        scores.append(GeneScore[Genes.index(name)])\n",
    "    else:\n",
    "        scores.append(0) #unlisted genes go to the score 0\n",
    "        "
   ]
  },
  {
   "cell_type": "markdown",
   "metadata": {},
   "source": [
    "We can check the list of scores"
   ]
  },
  {
   "cell_type": "code",
   "execution_count": 10,
   "metadata": {},
   "outputs": [
    {
     "name": "stdout",
     "output_type": "stream",
     "text": [
      "check genes and scores found\n",
      "0 0\n",
      "1 31\n",
      "2 53\n",
      "3 42\n",
      "4 22\n",
      "5 17\n",
      "6 2\n",
      "7 1\n",
      "8 0\n",
      "9 0\n"
     ]
    }
   ],
   "source": [
    "print(\"check genes and scores found\")\n",
    "for i in range(mymax+1):\n",
    "    print(i, scores.count(i))"
   ]
  },
  {
   "cell_type": "markdown",
   "metadata": {},
   "source": [
    "Now we calculate the rank score, one of two scores we use in the manuscript."
   ]
  },
  {
   "cell_type": "code",
   "execution_count": 11,
   "metadata": {},
   "outputs": [
    {
     "name": "stdout",
     "output_type": "stream",
     "text": [
      "Rank Score for  Noda_2009.txt  is  393\n"
     ]
    }
   ],
   "source": [
    "\"count rank score\" #add all scores if >1, subtract all scores==1\n",
    "RankScore=0\n",
    "for s in scores:\n",
    "    if s>1:\n",
    "        RankScore+=s\n",
    "    else:\n",
    "        RankScore -=1\n",
    "print(\"Rank Score for \", mfile, \" is \", RankScore)"
   ]
  },
  {
   "cell_type": "markdown",
   "metadata": {},
   "source": [
    "Finally, we calculate enrichment scores for all control points (it can be used for graphic representation of the score)"
   ]
  },
  {
   "cell_type": "code",
   "execution_count": 12,
   "metadata": {},
   "outputs": [
    {
     "name": "stdout",
     "output_type": "stream",
     "text": [
      "Full list 168\n",
      "Ctl_p\texpc\tobsd\tEnScore\tFisher_p\n",
      "1\t0\t0\t-0.016\t1.0\n",
      "2\t0\t0\t-0.032\t1.0\n",
      "4\t0\t1\t0.532\t1.0\n",
      "15\t0\t3\t1.548\t0.2477611940298211\n",
      "52\t1\t20\t11.081\t1.2168587335786353e-05\n",
      "142\t3\t42\t22.751\t6.706854278749095e-11\n",
      "383\t10\t84\t43.934\t1.222482419379737e-20\n",
      "1306\t34\t137\t60.863\t9.660590417614223e-31\n",
      "6314\t168\t168\t0.0\t1.0\n"
     ]
    }
   ],
   "source": [
    "\"make cumulative curve\"\n",
    "observed,expected,delta,fisher=[],[],[],[]\n",
    "print(\"Full list\", len(shortlist))\n",
    "print(\"Ctl_p\\texpc\\tobsd\\tEnScore\\tFisher_p\")\n",
    "for i in control_points:\n",
    "       # found = [x for x in shortlist if x < i]\n",
    "        found=[x for x in names if x in Genes[:i]]\n",
    "      #  print(i, \"found\", len(found))\n",
    "        observe = (len(found))\n",
    "        observed.append(observe)\n",
    "        expect = len(shortlist) * i / len(Genes)\n",
    "        expected.append(expect)\n",
    "        EnScore=((observe-expect)*100/len(names))\n",
    "        f_fi = ss.fisher_exact([[expect, len(shortlist) - expect], [observe, len(shortlist) - observe]])\n",
    "        print(i,  int(expect), int(observe), round(EnScore,3), f_fi[1], sep=\"\\t\")\n",
    "        delta.append(int(observe)-int(expect))\n",
    "        #remember the result at the threshold value\n",
    "        if i==thresh:\n",
    "            myline=[i,  int(expect), int(observe), round(EnScore,3), f_fi[1]]"
   ]
  },
  {
   "cell_type": "markdown",
   "metadata": {},
   "source": [
    "We previously agreed on the control_point of 142 genes (enrichment in window of 0-142 first genes), which means that the enrichment score is 22.751. \n",
    "We can print out the resulting Enrichment score since we remembered that line"
   ]
  },
  {
   "cell_type": "code",
   "execution_count": 13,
   "metadata": {},
   "outputs": [
    {
     "name": "stdout",
     "output_type": "stream",
     "text": [
      "Enrichment score for\tNoda_2009.txt\t is \t22.751\n"
     ]
    }
   ],
   "source": [
    "print(\"Enrichment score for\", mfile, \" is \", myline[3],   sep=\"\\t\")"
   ]
  },
  {
   "cell_type": "markdown",
   "metadata": {},
   "source": [
    "you can also make a plot of the enrichment scores. The simple version is below"
   ]
  },
  {
   "cell_type": "code",
   "execution_count": 16,
   "metadata": {},
   "outputs": [
    {
     "data": {
      "image/png": "[encoded data removed]",
      "text/plain": [
       "<Figure size 432x288 with 1 Axes>"
      ]
     },
     "metadata": {
      "needs_background": "light"
     },
     "output_type": "display_data"
    }
   ],
   "source": [
    "#brown hump\n",
    "plt.plot(control_points, delta,\"-\", c=\"brown\")\n",
    "plt.title(mfile[:-4]+ \" enrichment to aging META set\")\n",
    "plt.xlabel(\"genes\")\n",
    "plt.ylabel(\"Enrichment scores\")\n",
    "#red ticks\n",
    "for i in range(len(shortlist)):\n",
    "        x = [shortlist[i], shortlist[i]]\n",
    "        y = [0, -5]\n",
    "        plt.plot(x, y, c=\"red\")"
   ]
  },
  {
   "cell_type": "code",
   "execution_count": null,
   "metadata": {},
   "outputs": [],
   "source": []
  }
 ],
 "metadata": {
  "kernelspec": {
   "display_name": "Python 3",
   "language": "python",
   "name": "python3"
  },
  "language_info": {
   "codemirror_mode": {
    "name": "ipython",
    "version": 3
   },
   "file_extension": ".py",
   "mimetype": "text/x-python",
   "name": "python",
   "nbconvert_exporter": "python",
   "pygments_lexer": "ipython3",
   "version": "3.7.2"
  }
 },
 "nbformat": 4,
 "nbformat_minor": 2
}
