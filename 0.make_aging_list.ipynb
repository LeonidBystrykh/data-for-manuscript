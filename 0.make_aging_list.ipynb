{
 "cells": [
  {
   "cell_type": "markdown",
   "metadata": {
    "id": "-aofN722Cl7z"
   },
   "source": [
    "Probably the first script to use.\n",
    "You will need series of files with lists of differentially expressed genes.\n",
    "This script will compile a unified list of all genes from all lists and give a citation frequency of each gene. By our definition (used through the paper) all genes with frequency above 3 comprise the Aging Signature list. \n",
    "\n",
    "Make nesessary preparations for the analysis of the aging data. You will need:\n",
    "1. Recent python 3+ version\n",
    "2. Installed jupyter notebook (via anaconda or standalone). Note, you can use Colab on Google Drive (I use it to update these scripts). If you are in colab, you can access source files directly from the GitHub, no need to download (at least it works for me).\n",
    "3. Source files. The files used in the paper can be found next to this script. They are all uniformly organised as tab-separated text files. Each of them contains two lines of headings. Gene names are in the second column, fold changes are in the third column. All other data are not used in current scripts.\n",
    "Note that python counts from 0, therefore the second column is *col[1]*, and the 3rd column is *col[2]* "
   ]
  },
  {
   "cell_type": "markdown",
   "metadata": {
    "id": "UR062yzMCl79"
   },
   "source": [
    "Import necessary packages"
   ]
  },
  {
   "cell_type": "code",
   "execution_count": 33,
   "metadata": {
    "colab": {
     "base_uri": "https://localhost:8080/"
    },
    "executionInfo": {
     "elapsed": 2218,
     "status": "ok",
     "timestamp": 1618199110185,
     "user": {
      "displayName": "L. Bystrykh",
      "photoUrl": "https://lh3.googleusercontent.com/a-/AOh14GgpN3itEWm0-X2PcoHdhCBJshb6o49GSGOf5EhZ_Q=s64",
      "userId": "02111754519720239575"
     },
     "user_tz": -120
    },
    "id": "1jW7IWDECl7-",
    "outputId": "e7a2b28a-9c8f-4661-9860-1f063adf1744"
   },
   "outputs": [
    {
     "name": "stdout",
     "output_type": "stream",
     "text": [
      "imported\n"
     ]
    }
   ],
   "source": [
    "import matplotlib.pyplot as plt, numpy as np, math, scipy.stats as stats \n",
    "import pandas as pd \n",
    "from urllib.request import urlopen\n",
    "print(\"imported\")"
   ]
  },
  {
   "cell_type": "markdown",
   "metadata": {
    "id": "7vrYFr8QCl7-"
   },
   "source": [
    "This version reads source files from my GitHub. However, I did not make a modification for saving results in the GitHub. Those parts of the script are still in the offline style. <br>\n",
    "List all files you will import for analysis: \"sets\"\n",
    "Make shortlists from all signature files: \"setnames\"\n",
    "The block below is for META-files, meaning they are derived from the supplementary files provided by authors. "
   ]
  },
  {
   "cell_type": "code",
   "execution_count": 2,
   "metadata": {
    "id": "j_FIYAbSCl7_"
   },
   "outputs": [],
   "source": [
    "#meta data from meta directory\n",
    "#for online files in GitHub\n",
    "url=\"https://github.com/LeonidBystrykh/data-for-manuscript/blob/meta/\"\n",
    "#for offline use your directory \n",
    "mdir=\"/Users/leonid/Documents/Publications_Presentations/2020/AgingSign/data/meta/\"\n"
   ]
  },
  {
   "cell_type": "code",
   "execution_count": 4,
   "metadata": {},
   "outputs": [
    {
     "name": "stdout",
     "output_type": "stream",
     "text": [
      "['Wahlestedt_2013.txt', 'Beerman_2013.txt', 'Rossi_2005.txt', 'Kowalczyk_2015.txt', 'Sun_2014.txt', 'Flach_2014.txt', 'Kirschner_2017.txt', 'Noda_2009.txt', 'Grover_2016.txt', 'Chambers_2007.txt', 'Quere_2014.txt']\n"
     ]
    }
   ],
   "source": [
    "#if it was meta set\n",
    "import os\n",
    "mdir=\"/Users/leonid/Documents/Publications_Presentations/2020/AgingSign/data/meta/\"\n",
    "filenames = next(os.walk(mdir))[2] \n",
    "sets=[x for x in filenames if \".txt\" in x]\n",
    "print(sets)\n",
    "setnames=[x[:-4] for x in sets]"
   ]
  },
  {
   "cell_type": "markdown",
   "metadata": {
    "id": "3NX6o0XiCl7_"
   },
   "source": [
    "The block below is for reanalysed files.  The structure and variable names are the same as above, therefore you can use either of those block, but not both at the same time (this is not recommended, because some of the files will be partial duplicates of itself and cause statistical bias)."
   ]
  },
  {
   "cell_type": "code",
   "execution_count": 34,
   "metadata": {
    "executionInfo": {
     "elapsed": 498,
     "status": "ok",
     "timestamp": 1618200540115,
     "user": {
      "displayName": "L. Bystrykh",
      "photoUrl": "https://lh3.googleusercontent.com/a-/AOh14GgpN3itEWm0-X2PcoHdhCBJshb6o49GSGOf5EhZ_Q=s64",
      "userId": "02111754519720239575"
     },
     "user_tz": -120
    },
    "id": "K5HXNQiXCl8B"
   },
   "outputs": [
    {
     "name": "stdout",
     "output_type": "stream",
     "text": [
      "['Chambers_GSE6503.csv', 'Mann_GSE1004426.csv', 'AS_rean_table.csv', 'Kowalczyk_GSE59114.csv', 'Norddahl_GSE27686.csv', 'Maryanovich_GSE109546.csv', 'Wahlestedt_GSE44923.csv', 'Flach_GSE48893.csv', 'Lazare_GSE128050.csv', '.~lock.Bersenev_GSE39553.csv#', 'Bersenev_GSE39553.csv', 'Grover_GSE70657.csv', 'Sun_GSE47817.csv', 'Kirschner_GSE87631.csv']\n"
     ]
    }
   ],
   "source": [
    "#reanalysed files from rean directory\n",
    "mdir=\"/Users/leonid/Documents/Publications_Presentations/2020/AgingSign/data/rean/\"\n",
    "filenames = next(os.walk(mdir))[2] \n",
    "sets=[x for x in filenames if \".csv\" in x]\n",
    "print(sets)\n",
    "#make sure you do not use files you do not need\n",
    "sets=['Chambers_GSE6503.csv', 'Mann_GSE1004426.csv', 'Kowalczyk_GSE59114.csv', 'Norddahl_GSE27686.csv', \n",
    "      'Maryanovich_GSE109546.csv', 'Wahlestedt_GSE44923.csv', 'Flach_GSE48893.csv', 'Lazare_GSE128050.csv', \n",
    "      'Bersenev_GSE39553.csv', 'Grover_GSE70657.csv', 'Sun_GSE47817.csv', 'Kirschner_GSE87631.csv']\n",
    "setnames=[x[:-4] for x in sets]"
   ]
  },
  {
   "cell_type": "markdown",
   "metadata": {
    "id": "vuYhEx1xCl8C"
   },
   "source": [
    "open every file and collect all names of genes\n",
    "names is set of sets, \n",
    "fcs are fold changes per gene\n",
    "allg (all genes) and \n",
    "allf (all found times) are united set with frequencies"
   ]
  },
  {
   "cell_type": "code",
   "execution_count": 48,
   "metadata": {
    "colab": {
     "base_uri": "https://localhost:8080/"
    },
    "executionInfo": {
     "elapsed": 10135,
     "status": "ok",
     "timestamp": 1618200575301,
     "user": {
      "displayName": "L. Bystrykh",
      "photoUrl": "https://lh3.googleusercontent.com/a-/AOh14GgpN3itEWm0-X2PcoHdhCBJshb6o49GSGOf5EhZ_Q=s64",
      "userId": "02111754519720239575"
     },
     "user_tz": -120
    },
    "id": "pXUnXeulCl8C",
    "outputId": "88544b4b-c71a-4b6a-db48-ce96ef822083"
   },
   "outputs": [
    {
     "name": "stdout",
     "output_type": "stream",
     "text": [
      "file\t\t\tlen\tpos\tneg\n",
      "Chambers_GSE6503.csv\t2059\t987\t1072\n",
      "Mann_GSE1004426.csv\t68\t61\t7\n",
      "Kowalczyk_GSE59114.csv\t272\t107\t165\n",
      "Norddahl_GSE27686.csv\t775\t549\t226\n",
      "Maryanovich_GSE109546.csv\t1100\t549\t551\n",
      "Wahlestedt_GSE44923.csv\t395\t306\t89\n",
      "Flach_GSE48893.csv\t181\t54\t127\n",
      "Lazare_GSE128050.csv\t83\t67\t16\n",
      "Bersenev_GSE39553.csv\t330\t234\t96\n",
      "Grover_GSE70657.csv\t99\t65\t34\n",
      "Sun_GSE47817.csv\t2622\t1483\t1139\n",
      "Kirschner_GSE87631.csv\t30\t21\t9\n"
     ]
    }
   ],
   "source": [
    "\"\"\"here I have to make lists of gene names per set, fold changes per gene per set,\n",
    "list of all genes in all sets and frequencies of genes in all set\"\"\"\n",
    "names,fcs,allg,allf, allgenes=[],[],[],[],[]\n",
    "print(\"file\\t\\t\\tlen\\tpos\\tneg\")\n",
    "for fl in sets:\n",
    "#    file = urlopen(url+ fl +\"?raw=True\") #for online files\n",
    "    file=mdir+fl #for offline files\n",
    "    mytable=pd.read_csv(file,index_col=0, skiprows=0, header=1, sep=\"\\t\")\n",
    "    na,fc=mytable[mytable.columns[0]],mytable[mytable.columns[1]] #list of genes (na) and frequencies (fc) per set\n",
    "    names.append(list(na))\n",
    "    fcs.append(list(fc))\n",
    "    allgenes+=list(na)\n",
    "    print(fl, str(len(mytable)), \n",
    "          str(len([x for x in fc if float(x)>0])),\n",
    "          str(len([x for x in fc if float(x)<0])) , sep=\"\\t\")\n",
    "for name in set(allgenes):\n",
    "  allg.append(name)\n",
    "  allf.append(allgenes.count(name))"
   ]
  },
  {
   "cell_type": "code",
   "execution_count": 36,
   "metadata": {
    "colab": {
     "base_uri": "https://localhost:8080/"
    },
    "executionInfo": {
     "elapsed": 442,
     "status": "ok",
     "timestamp": 1618200687480,
     "user": {
      "displayName": "L. Bystrykh",
      "photoUrl": "https://lh3.googleusercontent.com/a-/AOh14GgpN3itEWm0-X2PcoHdhCBJshb6o49GSGOf5EhZ_Q=s64",
      "userId": "02111754519720239575"
     },
     "user_tz": -120
    },
    "id": "Rt-7caO1e952",
    "outputId": "e83ac8e5-697c-4ebc-a990-748b993c593a"
   },
   "outputs": [
    {
     "name": "stdout",
     "output_type": "stream",
     "text": [
      "Names 12\n",
      "FCs 12\n",
      "All genes 5455\n",
      "All frequencies 5455\n",
      "Checked\n"
     ]
    }
   ],
   "source": [
    "#This part works with a nasty glitch. On a Github it prints all lists in full length\n",
    "#Therefore better skip it or print something short instead\n",
    "print(\"Names\", len(names))\n",
    "print(\"FCs\", len(fcs))\n",
    "print(\"All genes\", len(allg))\n",
    "print(\"All frequencies\", len(allf))\n",
    "print(\"Checked\")"
   ]
  },
  {
   "cell_type": "code",
   "execution_count": 37,
   "metadata": {
    "colab": {
     "base_uri": "https://localhost:8080/"
    },
    "executionInfo": {
     "elapsed": 743,
     "status": "ok",
     "timestamp": 1618200767195,
     "user": {
      "displayName": "L. Bystrykh",
      "photoUrl": "https://lh3.googleusercontent.com/a-/AOh14GgpN3itEWm0-X2PcoHdhCBJshb6o49GSGOf5EhZ_Q=s64",
      "userId": "02111754519720239575"
     },
     "user_tz": -120
    },
    "id": "xgLvp20of6CH",
    "outputId": "7ebfd77d-98d5-48f4-afa3-1c87f6cca3ef"
   },
   "outputs": [
    {
     "name": "stdout",
     "output_type": "stream",
     "text": [
      "filtered genes 5343\n",
      "filtered_freqs 5343\n"
     ]
    }
   ],
   "source": [
    "#all genes list needs some cleaning, remove nameless 'nan' items and multiple names \n",
    "new_g, new_fc=[],[]\n",
    "for i in range(len(allg)):\n",
    " # print(allg[i])\n",
    "  if str('///') in str(allg[i]): \n",
    "    pass\n",
    "  elif str(allg[i])=='nan':\n",
    "    pass\n",
    "  else:\n",
    "    new_g.append(allg[i])\n",
    "    new_fc.append(allf[i])\n",
    "print(\"filtered genes\", len(new_g))\n",
    "print(\"filtered_freqs\", len(new_fc))\n",
    "allg,allf=new_g, new_fc"
   ]
  },
  {
   "cell_type": "markdown",
   "metadata": {
    "id": "B0PyVPJpCl8E"
   },
   "source": [
    "All requred data are collected.\n",
    "We can check every set name, lenth of every gene set, print first 10 names from each set\n",
    "We also check for possible damage in gene names.\n",
    "Some tables, when open/saved in excel loose original gene names, which became a dates, like \"Mar-2\", or \"Sep-5\". so we collect those if they are (or any other characters)"
   ]
  },
  {
   "cell_type": "code",
   "execution_count": 38,
   "metadata": {
    "colab": {
     "base_uri": "https://localhost:8080/"
    },
    "executionInfo": {
     "elapsed": 840,
     "status": "ok",
     "timestamp": 1618200779459,
     "user": {
      "displayName": "L. Bystrykh",
      "photoUrl": "https://lh3.googleusercontent.com/a-/AOh14GgpN3itEWm0-X2PcoHdhCBJshb6o49GSGOf5EhZ_Q=s64",
      "userId": "02111754519720239575"
     },
     "user_tz": -120
    },
    "id": "1GDKkkWbCl8F",
    "outputId": "0d33554f-0cf6-401a-c5da-eef5e9003886"
   },
   "outputs": [
    {
     "name": "stdout",
     "output_type": "stream",
     "text": [
      "summary\n",
      "Chambers_GSE6503.csv 2059 ['Vopp1', 'Smc6', 'Prkrip1', 'Acvr2b', 'Smek2'] ...\n",
      "Mann_GSE1004426.csv 68 ['Nupr1', 'Gda', 'Selp', 'Sult1a1', 'Clec1a'] ...\n",
      "Kowalczyk_GSE59114.csv 272 ['uc012hdk.1', 'Clca1', 'Mt1', 'Nupr1', 'Selp'] ...\n",
      "Norddahl_GSE27686.csv 775 ['Gpr183', 'Ctse', 'Eya4', 'Tc2n', 'Wwtr1'] ...\n",
      "Maryanovich_GSE109546.csv 1100 ['Gnai3', 'Tbx4', 'Xpo6', 'Ccnd2', 'Mid2'] ...\n",
      "Wahlestedt_GSE44923.csv 395 ['Sbspon', 'Osmr', 'Tc2n', 'Wwtr1', 'Pgr'] ...\n",
      "Flach_GSE48893.csv 181 ['Gpr183', 'Socs2', 'Tdrd9', 'Ebi3', 'Fyb'] ...\n",
      "Lazare_GSE128050.csv 83 ['Uhrf1', 'Ramp2', 'Vwf', 'Gria3', 'Cd34'] ...\n",
      "Bersenev_GSE39553.csv 330 ['Mt2', 'Plscr2', 'Selp', 'Clca3a1', 'Bmpr1a'] ...\n",
      "Grover_GSE70657.csv 99 ['Erdr1', 'Xist', 'Eif2s3y', 'Mt1', 'Nupr1'] ...\n",
      "Sun_GSE47817.csv 2622 ['Gnai3', 'Slfn4', 'Drp2', 'Mid2', 'Tpd52l1'] ...\n",
      "Kirschner_GSE87631.csv 30 ['Fosb', 'Fos', 'Erdr1', 'Mt1', 'Nfkbid'] ...\n"
     ]
    }
   ],
   "source": [
    "print(\"summary\")\n",
    "for i in range(len(sets)):\n",
    "        print(sets[i],len(names[i]),names[i][:5],\"...\")\n",
    "        mar=[x for x in names[i] if \"Sep-\" in str(x)]\n",
    "        if len(mar)>0:\n",
    "            print(\"found Mar\", sets[i], mar)\n",
    "    "
   ]
  },
  {
   "cell_type": "markdown",
   "metadata": {
    "id": "0Libq7vPCl8G"
   },
   "source": [
    "Here is the block to collect all frequencies for all genes. It is needed to calculate average fold change for each gene, which comes next after this block."
   ]
  },
  {
   "cell_type": "code",
   "execution_count": 39,
   "metadata": {
    "colab": {
     "base_uri": "https://localhost:8080/"
    },
    "executionInfo": {
     "elapsed": 8396,
     "status": "ok",
     "timestamp": 1618200805685,
     "user": {
      "displayName": "L. Bystrykh",
      "photoUrl": "https://lh3.googleusercontent.com/a-/AOh14GgpN3itEWm0-X2PcoHdhCBJshb6o49GSGOf5EhZ_Q=s64",
      "userId": "02111754519720239575"
     },
     "user_tz": -120
    },
    "id": "34YbEJ7rCl8G",
    "outputId": "d675175b-4f98-41d3-af15-35b6d274333c"
   },
   "outputs": [
    {
     "name": "stdout",
     "output_type": "stream",
     "text": [
      "ready to make the AgingList file\n"
     ]
    }
   ],
   "source": [
    "allfcs=[] #all fold changes\n",
    "for gene in allg:\n",
    "    folds=[]\n",
    "    for i in range(len(names)):\n",
    "        for j in range(len(names[i])):\n",
    "            if gene==names[i][j]:\n",
    "                folds.append(fcs[i][j])\n",
    "    allfcs.append(folds)\n",
    "print(\"ready to make the AgingList file\")"
   ]
  },
  {
   "cell_type": "markdown",
   "metadata": {
    "id": "aXbTN8bECl8G"
   },
   "source": [
    "Now we can save the data in the Aging List file.\n",
    "Choose one of two blocks below, depending on what set of data you have used. We will save average of all fold changes.\n",
    "We can also save all fold changes as a list in a separate column, if we want. To do so just add allfcs[i] as separate column in f_out.writelines() line\n",
    "\n",
    "block below is for META data, and the list will be saved into \"rean_gene_fcs_META.txt\"."
   ]
  },
  {
   "cell_type": "code",
   "execution_count": null,
   "metadata": {
    "id": "RtISbgpuCl8H"
   },
   "outputs": [],
   "source": [
    "f_out=open(\"Aging_List_META.txt\",\"w\")\n",
    "f_out.writelines(\"Gene\\tFreq_group\\tLog2FC\\n\")\n",
    "\n",
    "for i in range(len(allg)):\n",
    "   # print(allg[i],allf[i], allfcs[i])\n",
    "    f_out.writelines(allg[i]+\"\\t\"+str(allf[i])+\"\\t\"+str(sum(allfcs[i])/len(allfcs[i]))+\"\\n\")\n",
    "f_out.close()"
   ]
  },
  {
   "cell_type": "markdown",
   "metadata": {
    "id": "UyBUbnW5Cl8H"
   },
   "source": [
    "block below is for reanalysed data, and the list will be saved into \"rean_gene_fcs_REAN.txt\"."
   ]
  },
  {
   "cell_type": "code",
   "execution_count": null,
   "metadata": {
    "id": "vuVuIB5BCl8H",
    "outputId": "71638ddc-49e3-4d3e-f0e7-d3ec518bba8c"
   },
   "outputs": [
    {
     "name": "stdout",
     "output_type": "stream",
     "text": [
      "AgingList saved\n"
     ]
    }
   ],
   "source": [
    "f_out=open(\"Aging_List_REAN.txt\",\"w\")\n",
    "f_out.writelines(\"Gene\\tFreq_group\\tLog2FC\\n\")\n",
    "\n",
    "for i in range(len(allg)):\n",
    "   # print(allg[i],allf[i], allfcs[i])\n",
    "    f_out.writelines(allg[i]+\"\\t\"+str(allf[i])+\"\\t\"+str(sum(allfcs[i])/len(allfcs[i]))+\"\\n\")\n",
    "f_out.close()\n",
    "print(\"AgingList saved\")"
   ]
  },
  {
   "cell_type": "markdown",
   "metadata": {
    "id": "dXg5Yl2aCl8I"
   },
   "source": [
    "In principle, the Aging List is the most important part of the scipt. You can stop here and proceed with the next script for further study and use of the aging signature. \n",
    "Below are some additional files which you can use if you want it.\n",
    "Here is a cross-comparison of all files used for the list."
   ]
  },
  {
   "cell_type": "code",
   "execution_count": 40,
   "metadata": {
    "colab": {
     "base_uri": "https://localhost:8080/"
    },
    "executionInfo": {
     "elapsed": 1271,
     "status": "ok",
     "timestamp": 1618200851164,
     "user": {
      "displayName": "L. Bystrykh",
      "photoUrl": "https://lh3.googleusercontent.com/a-/AOh14GgpN3itEWm0-X2PcoHdhCBJshb6o49GSGOf5EhZ_Q=s64",
      "userId": "02111754519720239575"
     },
     "user_tz": -120
    },
    "id": "IHB3Fe0kCl8I",
    "outputId": "d5125a69-cb61-4659-c3bf-549452dbb82a"
   },
   "outputs": [
    {
     "name": "stdout",
     "output_type": "stream",
     "text": [
      "table of intersects\t set_size\t Intersects_tab\t all_intersected\t nr_intersected\t fraction_intersected\n",
      "Chambers_GSE6503.csv\t2059\t[0, 18, 63, 165, 169, 97, 58, 21, 84, 38, 208, 10]\t931\t353\t0.1714424477901894\n",
      "Mann_GSE1004426.csv\t68\t[13, 0, 32, 37, 33, 30, 9, 17, 23, 18, 34, 5]\t251\t55\t0.8088235294117647\n",
      "Kowalczyk_GSE59114.csv\t272\t[46, 32, 0, 56, 51, 38, 18, 15, 40, 28, 70, 9]\t403\t131\t0.48161764705882354\n",
      "Norddahl_GSE27686.csv\t775\t[182, 63, 77, 0, 238, 287, 84, 69, 179, 61, 348, 15]\t1603\t442\t0.5703225806451613\n",
      "Maryanovich_GSE109546.csv\t1100\t[140, 33, 51, 179, 0, 139, 37, 56, 140, 25, 503, 8]\t1311\t619\t0.5627272727272727\n",
      "Wahlestedt_GSE44923.csv\t395\t[107, 48, 52, 282, 177, 0, 60, 62, 165, 43, 209, 14]\t1219\t271\t0.6860759493670886\n",
      "Flach_GSE48893.csv\t181\t[32, 9, 18, 42, 37, 29, 0, 13, 33, 11, 39, 5]\t268\t89\t0.49171270718232046\n",
      "Lazare_GSE128050.csv\t83\t[17, 17, 15, 46, 56, 41, 13, 0, 45, 14, 74, 5]\t343\t76\t0.9156626506024096\n",
      "Bersenev_GSE39553.csv\t330\t[49, 23, 40, 123, 140, 112, 31, 45, 0, 31, 176, 12]\t782\t252\t0.7636363636363637\n",
      "Grover_GSE70657.csv\t99\t[29, 18, 28, 34, 25, 25, 11, 14, 31, 0, 31, 7]\t253\t65\t0.6565656565656566\n",
      "Sun_GSE47817.csv\t2622\t[173, 34, 70, 275, 503, 168, 39, 74, 176, 31, 0, 8]\t1551\t790\t0.3012967200610221\n",
      "Kirschner_GSE87631.csv\t30\t[8, 5, 9, 10, 8, 9, 5, 5, 12, 7, 8, 0]\t86\t20\t0.6666666666666666\n"
     ]
    }
   ],
   "source": [
    "print(\"table of intersects\\t set_size\\t Intersects_tab\\t all_intersected\\t nr_intersected\\t fraction_intersected\")\n",
    "s,v,u,dists=[],[],[],[] # u for unique genes\n",
    "for i in range(len(names)):\n",
    "    val,uni=[],[]\n",
    "    \"define pos, neg\"\n",
    "    for j in range(len(names)):\n",
    "        ovl=[x for x in names[i] if x in names[j]]\n",
    "        if i!=j:\n",
    "            val.append(len(ovl))\n",
    "            for o in ovl:\n",
    "                if o not in uni:\n",
    "                    uni.append(o)\n",
    "        else:\n",
    "            self=len(ovl) #dirty trick for own size\n",
    "            val.append(0)\n",
    "    u.append(uni)\n",
    "    s.append(self)\n",
    "    dists.append(val)\n",
    "    v.append(len(uni)) #length unique list\n",
    "    print(sets[i],self,val,sum(val),len(uni), len(uni)/self, sep=\"\\t\")\n",
    "    "
   ]
  },
  {
   "cell_type": "markdown",
   "metadata": {
    "id": "5GmYrQkkCl8I"
   },
   "source": [
    "The table above can be presented as a heatmap below"
   ]
  },
  {
   "cell_type": "code",
   "execution_count": 41,
   "metadata": {
    "colab": {
     "base_uri": "https://localhost:8080/",
     "height": 268
    },
    "executionInfo": {
     "elapsed": 995,
     "status": "ok",
     "timestamp": 1618200868311,
     "user": {
      "displayName": "L. Bystrykh",
      "photoUrl": "https://lh3.googleusercontent.com/a-/AOh14GgpN3itEWm0-X2PcoHdhCBJshb6o49GSGOf5EhZ_Q=s64",
      "userId": "02111754519720239575"
     },
     "user_tz": -120
    },
    "id": "R7lv89eVCl8J",
    "outputId": "8006a11f-107f-4f79-9e36-49b74902230b"
   },
   "outputs": [
    {
     "data": {
      "image/png": "[encoded data removed]",
      "text/plain": [
       "<Figure size 432x288 with 2 Axes>"
      ]
     },
     "metadata": {
      "needs_background": "light"
     },
     "output_type": "display_data"
    }
   ],
   "source": [
    "#heatmap figure for similarities between gene sets\n",
    "plt.imshow(dists)\n",
    "plt.yticks(range(len(setnames)),setnames)\n",
    "plt.colorbar();\n",
    "#plt.show()\n"
   ]
  },
  {
   "cell_type": "code",
   "execution_count": 24,
   "metadata": {
    "colab": {
     "base_uri": "https://localhost:8080/"
    },
    "executionInfo": {
     "elapsed": 770,
     "status": "ok",
     "timestamp": 1618202169733,
     "user": {
      "displayName": "L. Bystrykh",
      "photoUrl": "https://lh3.googleusercontent.com/a-/AOh14GgpN3itEWm0-X2PcoHdhCBJshb6o49GSGOf5EhZ_Q=s64",
      "userId": "02111754519720239575"
     },
     "user_tz": -120
    },
    "id": "PxEkq_X1Ue11",
    "outputId": "365ea802-62a7-406f-fc46-4769cf6124ff"
   },
   "outputs": [
    {
     "name": "stdout",
     "output_type": "stream",
     "text": [
      "12\n",
      "330\n",
      "Mt2\n"
     ]
    }
   ],
   "source": [
    "#check variables for the block below\n",
    "print(len(names))\n",
    "print(len(names[0]))\n",
    "print(names[0][0])\n",
    "#print(len(allg), allg[:10])\n",
    "#print(len(allf), allf[:10])"
   ]
  },
  {
   "cell_type": "markdown",
   "metadata": {
    "id": "GjBclVCGCl8J"
   },
   "source": [
    "The block below seems to have a trouble in colab, more power is needed.\n",
    "At the end some summary table for each file used for the Aging List"
   ]
  },
  {
   "cell_type": "code",
   "execution_count": 43,
   "metadata": {
    "colab": {
     "base_uri": "https://localhost:8080/"
    },
    "executionInfo": {
     "elapsed": 545,
     "status": "ok",
     "timestamp": 1618202108826,
     "user": {
      "displayName": "L. Bystrykh",
      "photoUrl": "https://lh3.googleusercontent.com/a-/AOh14GgpN3itEWm0-X2PcoHdhCBJshb6o49GSGOf5EhZ_Q=s64",
      "userId": "02111754519720239575"
     },
     "user_tz": -120
    },
    "id": "rZyQziteCl8J",
    "outputId": "f4816730-cfc8-4fc3-e0da-f36c65398d94"
   },
   "outputs": [
    {
     "name": "stdout",
     "output_type": "stream",
     "text": [
      "Colab cannot handle this part. Do it offline\n",
      "make groups of genes by their frequencies of occurrence\n",
      "per set\n",
      "set\ttotal\t>3\t relative\n",
      "Chambers_GSE6503.csv\t2059\t161\t0.07819329771733852\n",
      "Mann_GSE1004426.csv\t68\t41\t0.6029411764705882\n",
      "Kowalczyk_GSE59114.csv\t272\t64\t0.23529411764705882\n",
      "Norddahl_GSE27686.csv\t775\t303\t0.3909677419354839\n",
      "Maryanovich_GSE109546.csv\t1100\t184\t0.16727272727272727\n",
      "Wahlestedt_GSE44923.csv\t395\t225\t0.569620253164557\n",
      "Flach_GSE48893.csv\t181\t51\t0.281767955801105\n",
      "Lazare_GSE128050.csv\t83\t55\t0.6626506024096386\n",
      "Bersenev_GSE39553.csv\t330\t137\t0.41515151515151516\n",
      "Grover_GSE70657.csv\t99\t39\t0.3939393939393939\n",
      "Sun_GSE47817.csv\t2622\t205\t0.07818459191456903\n",
      "Kirschner_GSE87631.csv\t30\t13\t0.43333333333333335\n"
     ]
    }
   ],
   "source": [
    "print(\"Colab cannot handle this part. Do it offline\")\n",
    "print(\"make groups of genes by their frequencies of occurrence\")\n",
    "print(\"per set\")\n",
    "print(\"set\\ttotal\\t>3\\t relative\") #\\t p_hypergeometric\n",
    "rel_dists=[]\n",
    "for val in range(len(sets)):\n",
    "    total,sig=len(names[val]),0\n",
    "    for name in names[val]:\n",
    "    #    print(\"name\", name)\n",
    "        if name in allg:\n",
    "            score=allf[allg.index(name)]\n",
    "   #     print(name, score)\n",
    "            if int(score)>3:\n",
    "                sig+=1\n",
    "    rel_dists.append(float(sig)/float(total))\n",
    "    print(sets[val], total, sig, float(sig)/float(total), sep=\"\\t\") #myp,"
   ]
  },
  {
   "cell_type": "markdown",
   "metadata": {
    "id": "zOLgqs4pCl8K"
   },
   "source": [
    "We can draw those results in different ways. Here is the script to make a \"dart-plot\"\n",
    "of data sets similarity degree to the aging signature. To do so we need to use Set names, their sizes, and relative distances to the Aging Signature. Here we use the last column from the table above, namely relative values (number of genes found in signature divided by total number of genes."
   ]
  },
  {
   "cell_type": "code",
   "execution_count": 44,
   "metadata": {
    "colab": {
     "base_uri": "https://localhost:8080/"
    },
    "executionInfo": {
     "elapsed": 430,
     "status": "ok",
     "timestamp": 1618202210096,
     "user": {
      "displayName": "L. Bystrykh",
      "photoUrl": "https://lh3.googleusercontent.com/a-/AOh14GgpN3itEWm0-X2PcoHdhCBJshb6o49GSGOf5EhZ_Q=s64",
      "userId": "02111754519720239575"
     },
     "user_tz": -120
    },
    "id": "7XSrOPOICl8K",
    "outputId": "13d32c42-e800-41c0-b8c1-f99b5b56e9da"
   },
   "outputs": [
    {
     "name": "stdout",
     "output_type": "stream",
     "text": [
      "Chambers_GSE6503.csv\t2059\n",
      "Mann_GSE1004426.csv\t68\n",
      "Kowalczyk_GSE59114.csv\t272\n",
      "Norddahl_GSE27686.csv\t775\n",
      "Maryanovich_GSE109546.csv\t1100\n",
      "Wahlestedt_GSE44923.csv\t395\n",
      "Flach_GSE48893.csv\t181\n",
      "Lazare_GSE128050.csv\t83\n",
      "Bersenev_GSE39553.csv\t330\n",
      "Grover_GSE70657.csv\t99\n",
      "Sun_GSE47817.csv\t2622\n",
      "Kirschner_GSE87631.csv\t30\n"
     ]
    }
   ],
   "source": [
    "sizes=[len(x) for x in names]\n",
    "for i in range(len(sizes)):\n",
    "    print(sets[i], sizes[i],\n",
    "          #rel_dists[i], #this part is calculated i\n",
    "          sep=\"\\t\")"
   ]
  },
  {
   "cell_type": "markdown",
   "metadata": {
    "id": "TbHW1_YUCl8L"
   },
   "source": [
    "if sets, sizes and rel_dists are OK, we can do a little geometric exersise and draw the \"dart-Plot\". First, we make some scale adjustments to the data. It is needed to adjust it to the figure size"
   ]
  },
  {
   "cell_type": "code",
   "execution_count": 45,
   "metadata": {
    "id": "Em7Mj3K4Cl8L"
   },
   "outputs": [],
   "source": [
    "u,v=[],[]\n",
    "size=[float(x)/10 for x in sizes]\n",
    "dist=[(1-float(x))*10 for x in rel_dists]"
   ]
  },
  {
   "cell_type": "markdown",
   "metadata": {
    "id": "7U9nRzTiCl8L"
   },
   "source": [
    "next we use our geometric knowledge and find positions for the nodes we will draw"
   ]
  },
  {
   "cell_type": "code",
   "execution_count": 46,
   "metadata": {
    "id": "ocBkfrlUCl8L",
    "outputId": "a1c8ad7f-cc7c-48f3-afbb-1f9c67c848a3"
   },
   "outputs": [
    {
     "name": "stdout",
     "output_type": "stream",
     "text": [
      "[0.0, 1.9853, 6.6225, 6.0903, 7.2116, 2.1519, 0.0, -1.6867, -5.0649, -6.0606, -7.9832, -2.8333]\n",
      "[9.2181, 3.4386, 3.8235, 0.0, -4.1636, -3.7272, -7.1823, -2.9215, -2.9242, -0.0, 4.6091, 4.9075]\n"
     ]
    }
   ],
   "source": [
    "setlength=len(dist)\n",
    "for i in range(setlength):\n",
    "    u.append(round(math.sin(i*2*np.pi/setlength)*float(dist[i]),4))\n",
    "    v.append(round(math.cos(i*2*np.pi/setlength)*float(dist[i]),4))\n",
    "print(u)\n",
    "print(v)"
   ]
  },
  {
   "cell_type": "markdown",
   "metadata": {
    "id": "2M0p1PjjCl8L"
   },
   "source": [
    "Now we can draw our nodes and edges. Note that colors and line thickness can be changed too"
   ]
  },
  {
   "cell_type": "code",
   "execution_count": 47,
   "metadata": {
    "id": "1G5pr6BPCl8L",
    "outputId": "a47b44c1-476a-498c-d599-cdab430bc038"
   },
   "outputs": [
    {
     "data": {
      "image/png": "[encoded data removed]",
      "text/plain": [
       "<Figure size 1080x720 with 2 Axes>"
      ]
     },
     "metadata": {
      "needs_background": "light"
     },
     "output_type": "display_data"
    }
   ],
   "source": [
    "from matplotlib.patches import Ellipse\n",
    "import numpy.random as rnd\n",
    "\n",
    "#my struggles to control the figure size\n",
    "#plt.figure(figsize=(15,5))\n",
    "fig, axes= plt.subplots(nrows=1, ncols=1,figsize=(15,10))\n",
    "#fig = plt.figure(0)\n",
    "ax = fig.add_subplot(111)#, aspect='equal')\n",
    "\"draw ellipses\"\n",
    "for i in range(len(u)):\n",
    "    ells = [Ellipse(xy=(u[i],v[i]), width=size[i]/30, height=size[i]/30,\n",
    "                    facecolor=rnd.rand(3),alpha=0.9, edgecolor=\"black\")]\n",
    "    for e in ells:\n",
    "        ax.add_artist(e)\n",
    "\"add lines\"\n",
    "for i in range(len(v)):\n",
    "    plt.plot([0,u[i]],[0,v[i]],\"--\", color=\"black\")\n",
    "    plt.text(u[i],v[i],sets[i][:-7])\n",
    "\"add central hub\"\n",
    "ell=Ellipse(xy=(0,0), width=1, height=1,facecolor=\"red\",alpha=1, edgecolor=\"black\")\n",
    "ax.add_artist(ell)\n",
    "\n",
    "ax.set_xlim(min(u+v)-20, max(u+v)+20)\n",
    "ax.set_ylim(min(u+v)-10, max(u+v)+10)\n",
    "\n",
    "#ax.set_aspect(0.9) #shape of the graph rectangle\n",
    "plt.gca().axes.get_yaxis().set_visible(False)\n",
    "plt.gca().axes.get_xaxis().set_visible(False)"
   ]
  },
  {
   "cell_type": "markdown",
   "metadata": {
    "id": "2CJGCw9iCl8N"
   },
   "source": [
    "Depending on your browser you might see the same figures differently.  Details can be found in stackoverflow: https://stackoverflow.com/questions/19410042/how-to-make-ipython-notebook-matplotlib-plot-inline\n",
    "Further adjustments are probably better to make in regular IDEs, like Spyder3 or PyCharm CE. \n"
   ]
  }
 ],
 "metadata": {
  "colab": {
   "collapsed_sections": [],
   "name": "0.new_make_aging_list.ipynb",
   "provenance": [
    {
     "file_id": "https://github.com/LeonidBystrykh/data-for-manuscript/blob/scripts/0.make_aging_list.ipynb",
     "timestamp": 1617949608976
    }
   ]
  },
  "kernelspec": {
   "display_name": "Python 3",
   "language": "python",
   "name": "python3"
  },
  "language_info": {
   "codemirror_mode": {
    "name": "ipython",
    "version": 3
   },
   "file_extension": ".py",
   "mimetype": "text/x-python",
   "name": "python",
   "nbconvert_exporter": "python",
   "pygments_lexer": "ipython3",
   "version": "3.8.5"
  }
 },
 "nbformat": 4,
 "nbformat_minor": 1
}
