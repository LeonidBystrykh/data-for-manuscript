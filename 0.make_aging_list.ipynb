{
 "cells": [
  {
   "cell_type": "markdown",
   "metadata": {},
   "source": [
    "Probably the first script to use.\n",
    "You will need series of files with lists of differentially expressed genes.\n",
    "This script will compile a unified list of all genes from all lists and give a citation frequency of each gene. By our definition (used through the paper) all genes with frequency above 3 comprise the Aging Signature list. \n",
    "\n",
    "Make nesessary preparations for the analysis of the aging data. You will need:\n",
    "1. Recent python 3+ version\n",
    "2. Installed jupyter notebook (via anaconda or standalone)\n",
    "3. Source files. The files used in the paper can be found next to this script. They are all uniformly organised as tab-separated text files. Each of them contains two lines of headings. Gene names are in the second column, fold changes are in the third column. All other data are not used in current scripts.\n",
    "Note that python counts from 0, therefore the second column is *col[1]*, and the 3rd column is *col[2]* "
   ]
  },
  {
   "cell_type": "markdown",
   "metadata": {},
   "source": [
    "Import necessary packages"
   ]
  },
  {
   "cell_type": "code",
   "execution_count": 1,
   "metadata": {},
   "outputs": [],
   "source": [
    "import matplotlib.pyplot as plt, numpy as np, math, scipy.stats as stats "
   ]
  },
  {
   "cell_type": "markdown",
   "metadata": {},
   "source": [
    "Define directory where you keep your source files: \"mdir\"\n",
    "List all files you will import for analysis: \"sets\"\n",
    "Make shortlists from all signature files: \"setnames\"\n",
    "The block below is for META-files, meaning they are derived from the supplementary files provided by authors"
   ]
  },
  {
   "cell_type": "code",
   "execution_count": 29,
   "metadata": {},
   "outputs": [],
   "source": [
    "#meta data from meta directory\n",
    "sets=[\"Beerman_2013.txt\",\"Chambers_2007.txt\",\"Flach_2014.txt\",\"Grover_2016.txt\",\n",
    "    \"Kirshner_2017.txt\",\"Kowalczyk_2015.txt\",\"Noda_2009.txt\",\"Quere_2014.txt\",\n",
    "    \"Rossi_2005.txt\",\"Sun_2014.txt\",\"Wahlestedt_2013.txt\"]\n",
    "setnames=[x[:-4] for x in sets]\n",
    "\"add  other list to the list of other files\"\n",
    "\"extra file for DGSE plot and comparison to others\"\n",
    "\n",
    "mdir=\"/Users/leonid_bystrykh/Documents/Articles&Presentations/2020/AgingSign/data/meta/\""
   ]
  },
  {
   "cell_type": "markdown",
   "metadata": {},
   "source": [
    "The block below is for reanalysed files.  The structure and variable names are the same as above, therefore you can use either of those block, but not both at the same time (this is not recommended, because some of the files will be partial duplicates of itself and cause statistical bias)."
   ]
  },
  {
   "cell_type": "code",
   "execution_count": 2,
   "metadata": {},
   "outputs": [],
   "source": [
    "#reanalysed files from rean directory\n",
    "sets=[\"Bersenev_GSE39553.csv\",\"Chambers_GSE6503.csv\",\n",
    "    \"Flach_GSE48893.csv\",\"Grover_GSE70657.csv\",\n",
    "    \"Kirshner_GSE87631.csv\",\"Kowalczyk_GSE59114.csv\",\n",
    "    \"Lazare_GSE128050.csv\",\"Mann_GSE1004426.csv\",\n",
    "      \"Maryanovich_GSE109546.csv\",\"Norddahl_GSE27686.csv\",\n",
    "      \"Sun_GSE47817.csv\",\"Wahlestedt_GSE44923.csv\"]\n",
    "setnames=[x[:-4] for x in sets]\n",
    "\"add  other list to the list of other files\"\n",
    "\"extra file for DGSE plot and comparison to others\"\n",
    "\n",
    "mdir=\"/Users/leonid_bystrykh/Documents/Articles&Presentations/2020/AgingSign/data/rean/\""
   ]
  },
  {
   "cell_type": "markdown",
   "metadata": {},
   "source": [
    "open every file and collect all names of genes\n",
    "names is set of sets, \n",
    "fcs are fold changes per gene\n",
    "allg (all genes) and \n",
    "allf (all found times) are united set with frequencies"
   ]
  },
  {
   "cell_type": "code",
   "execution_count": 3,
   "metadata": {},
   "outputs": [
    {
     "name": "stdout",
     "output_type": "stream",
     "text": [
      "file\t\t\tlength\tpositive\tnegative\n",
      "Bersenev_GSE39553.csv\t329\t234\t95\n",
      "Chambers_GSE6503.csv\t1770\t854\t916\n",
      "Flach_GSE48893.csv\t176\t50\t126\n",
      "Grover_GSE70657.csv\t99\t65\t34\n",
      "Kirshner_GSE87631.csv\t30\t21\t9\n",
      "Kowalczyk_GSE59114.csv\t272\t107\t165\n",
      "Lazare_GSE128050.csv\t83\t67\t16\n",
      "Mann_GSE1004426.csv\t68\t61\t7\n",
      "Maryanovich_GSE109546.csv\t1100\t549\t551\n",
      "Norddahl_GSE27686.csv\t625\t438\t187\n",
      "Sun_GSE47817.csv\t2622\t1483\t1139\n",
      "Wahlestedt_GSE44923.csv\t313\t238\t75\n"
     ]
    }
   ],
   "source": [
    "names,fcs,allg,allf=[],[],[],[]\n",
    "print(\"file\\t\\t\\tlength\\tpositive\\tnegative\")\n",
    "for file in sets:\n",
    "    f_in=open(mdir+ file,'r')\n",
    "    lines=f_in.readlines()\n",
    "    na,fc=[],[] #list of genes (na) and frequencies (fc) per set\n",
    "    for line in lines[2:]: #skip first two lines\n",
    "        items= line.rstrip().replace(\"'\",\"\").replace(\" \",\"\").split('\\t')\n",
    "        it=items[1].split('///') #for multiple gene names take the 1st\n",
    "        if it[0] not in na:\n",
    "            na.append(it[0]) #0 stands for the 1st column, otherwise change\n",
    "            fc.append(float(items[2])) #1 stands for the second column\n",
    "    #count all genes and their frequencies per publication\n",
    "    for n in na:\n",
    "        if n not in allg:\n",
    "            allg.append(n)\n",
    "            allf.append(1)\n",
    "        else:\n",
    "            allf[allg.index(n)]+=1\n",
    "    names.append(na) #list of lists of gene names\n",
    "    fcs.append(fc)  #list of lists of fold changes\n",
    "    pos=[x for x in fc if x>0]\n",
    "    neg=[x for x in fc if x<0]\n",
    "    print(file, len(fc), len(pos), len(neg), sep=\"\\t\")\n",
    "    f_in.close()"
   ]
  },
  {
   "cell_type": "markdown",
   "metadata": {},
   "source": [
    "All requred data are collected.\n",
    "We can check every set name, lenth of every gene set, print first 10 names from each set\n",
    "We also check for possible damage in gene names.\n",
    "Some tables, when open/saved in excel loose original gene names, which became a dates, like \"Mar-2\", or \"Sep-5\". so we collect those if they are (or any other characters)"
   ]
  },
  {
   "cell_type": "code",
   "execution_count": 4,
   "metadata": {},
   "outputs": [
    {
     "name": "stdout",
     "output_type": "stream",
     "text": [
      "summary\n",
      "Bersenev_GSE39553.csv 329 ['Mt2', 'Plscr2', 'Selp', 'Clca3a1', 'Bmpr1a'] ...\n",
      "Chambers_GSE6503.csv 1770 ['Vopp1', 'Smc6', 'Prkrip1', 'Acvr2b', 'Smek2'] ...\n",
      "Flach_GSE48893.csv 176 ['Gpr183', 'Socs2', 'Tdrd9', 'Ebi3', 'Fyb'] ...\n",
      "Grover_GSE70657.csv 99 ['Erdr1', 'Xist', 'Eif2s3y', 'Mt1', 'Nupr1'] ...\n",
      "Kirshner_GSE87631.csv 30 ['Fosb', 'Fos', 'Erdr1', 'Mt1', 'Nfkbid'] ...\n",
      "Kowalczyk_GSE59114.csv 272 ['uc012hdk.1', 'Clca1', 'Mt1', 'Nupr1', 'Selp'] ...\n",
      "Lazare_GSE128050.csv 83 ['Uhrf1', 'Ramp2', 'Vwf', 'Gria3', 'Cd34'] ...\n",
      "Mann_GSE1004426.csv 68 ['Nupr1', 'Gda', 'Selp', 'Sult1a1', 'Clec1a'] ...\n",
      "Maryanovich_GSE109546.csv 1100 ['Gnai3', 'Tbx4', 'Xpo6', 'Ccnd2', 'Mid2'] ...\n",
      "Norddahl_GSE27686.csv 625 ['Gpr183', 'Ctse', 'Eya4', 'Tc2n', 'Wwtr1'] ...\n",
      "Sun_GSE47817.csv 2622 ['Gnai3', 'Slfn4', 'Drp2', 'Mid2', 'Tpd52l1'] ...\n",
      "Wahlestedt_GSE44923.csv 313 ['Sbspon', 'Osmr', 'Tc2n', 'Wwtr1', 'Pgr'] ...\n"
     ]
    }
   ],
   "source": [
    "print(\"summary\")\n",
    "for i in range(len(sets)):\n",
    "        print(sets[i],len(names[i]),names[i][:5],\"...\")\n",
    "        mar=[x for x in names[i] if x[:4]==\"Sep-\"]\n",
    "        if len(mar)>0:\n",
    "            print(\"found Mar\", sets[i], mar)\n",
    "    "
   ]
  },
  {
   "cell_type": "markdown",
   "metadata": {},
   "source": [
    "Next, we collect all frequencies for all genes. "
   ]
  },
  {
   "cell_type": "code",
   "execution_count": 5,
   "metadata": {},
   "outputs": [
    {
     "name": "stdout",
     "output_type": "stream",
     "text": [
      "ready to make the AgingList file\n"
     ]
    }
   ],
   "source": [
    "allfcs=[] #all fold changes\n",
    "for gene in allg:\n",
    "    folds=[]\n",
    "    for i in range(len(names)):\n",
    "        for j in range(len(names[i])):\n",
    "            if gene==names[i][j]:\n",
    "                folds.append(fcs[i][j])\n",
    "    allfcs.append(folds)\n",
    "print(\"ready to make the AgingList file\")"
   ]
  },
  {
   "cell_type": "markdown",
   "metadata": {},
   "source": [
    "Now we can save the data in the Aging List file.\n",
    "Choose one of two blocks below, depending on what set of data you have used. We will save average of all fold changes.\n",
    "We can also save all fold changes as a list in a separate column, if we want. To do so just add allfcs[i] as separate column in f_out.writelines() line\n",
    "\n",
    "block below is for META data, and the list will be saved into \"rean_gene_fcs_META.txt\"."
   ]
  },
  {
   "cell_type": "code",
   "execution_count": 11,
   "metadata": {},
   "outputs": [],
   "source": [
    "f_out=open(\"Aging_List_META.txt\",\"w\")\n",
    "f_out.writelines(\"Gene\\tFreq_group\\tLog2FC\\n\")\n",
    "\n",
    "for i in range(len(allg)):\n",
    "   # print(allg[i],allf[i], allfcs[i])\n",
    "    f_out.writelines(allg[i]+\"\\t\"+str(allf[i])+\"\\t\"+str(sum(allfcs[i])/len(allfcs[i]))+\"\\n\")\n",
    "f_out.close()"
   ]
  },
  {
   "cell_type": "markdown",
   "metadata": {},
   "source": [
    "block below is for reanalysed data, and the list will be saved into \"rean_gene_fcs_REAN.txt\"."
   ]
  },
  {
   "cell_type": "code",
   "execution_count": 6,
   "metadata": {},
   "outputs": [
    {
     "name": "stdout",
     "output_type": "stream",
     "text": [
      "AgingList saved\n"
     ]
    }
   ],
   "source": [
    "f_out=open(\"Aging_List_REAN.txt\",\"w\")\n",
    "f_out.writelines(\"Gene\\tFreq_group\\tLog2FC\\n\")\n",
    "\n",
    "for i in range(len(allg)):\n",
    "   # print(allg[i],allf[i], allfcs[i])\n",
    "    f_out.writelines(allg[i]+\"\\t\"+str(allf[i])+\"\\t\"+str(sum(allfcs[i])/len(allfcs[i]))+\"\\n\")\n",
    "f_out.close()\n",
    "print(\"AgingList saved\")"
   ]
  },
  {
   "cell_type": "markdown",
   "metadata": {},
   "source": [
    "In principle, the Aging List is the most important part of the scipt. You can stop here and proceed with the next script for further study and use of the aging signature. \n",
    "Below are some additional files which you can use if you want it.\n",
    "Here is a cross-comparison of all files used for the list."
   ]
  },
  {
   "cell_type": "code",
   "execution_count": 7,
   "metadata": {},
   "outputs": [
    {
     "name": "stdout",
     "output_type": "stream",
     "text": [
      "table of intersects\t set_size\t Intersects_tab\t all_intersected\t nr_intersected\t fraction_intersected\n",
      "Bersenev_GSE39553.csv\t329\t[0, 47, 29, 31, 12, 40, 45, 23, 140, 121, 176, 111]\t775\t251\t0.7629179331306991\n",
      "Chambers_GSE6503.csv\t1770\t[47, 0, 32, 29, 8, 47, 17, 14, 141, 116, 174, 61]\t686\t356\t0.20112994350282487\n",
      "Flach_GSE48893.csv\t176\t[29, 32, 0, 12, 5, 18, 13, 9, 37, 43, 40, 29]\t267\t91\t0.5170454545454546\n",
      "Grover_GSE70657.csv\t99\t[31, 29, 12, 0, 7, 28, 14, 18, 25, 34, 31, 25]\t254\t66\t0.6666666666666666\n",
      "Kirshner_GSE87631.csv\t30\t[12, 8, 5, 7, 0, 9, 5, 5, 8, 10, 8, 9]\t86\t20\t0.6666666666666666\n",
      "Kowalczyk_GSE59114.csv\t272\t[40, 47, 18, 28, 9, 0, 15, 32, 51, 58, 70, 40]\t408\t132\t0.4852941176470588\n",
      "Lazare_GSE128050.csv\t83\t[45, 17, 13, 14, 5, 15, 0, 17, 56, 46, 74, 41]\t343\t76\t0.9156626506024096\n",
      "Mann_GSE1004426.csv\t68\t[23, 14, 9, 18, 5, 32, 17, 0, 33, 38, 34, 31]\t254\t56\t0.8235294117647058\n",
      "Maryanovich_GSE109546.csv\t1100\t[140, 141, 37, 25, 8, 51, 56, 33, 0, 180, 503, 140]\t1314\t621\t0.5645454545454546\n",
      "Norddahl_GSE27686.csv\t625\t[121, 116, 43, 34, 10, 58, 46, 38, 180, 0, 277, 207]\t1130\t443\t0.7088\n",
      "Sun_GSE47817.csv\t2622\t[176, 174, 40, 31, 8, 70, 74, 34, 503, 277, 0, 170]\t1557\t792\t0.30205949656750575\n",
      "Wahlestedt_GSE44923.csv\t313\t[111, 61, 29, 25, 9, 40, 41, 31, 140, 207, 170, 0]\t864\t272\t0.8690095846645367\n"
     ]
    }
   ],
   "source": [
    "print(\"table of intersects\\t set_size\\t Intersects_tab\\t all_intersected\\t nr_intersected\\t fraction_intersected\")\n",
    "s,v,u,dists=[],[],[],[] # u for unique genes\n",
    "for i in range(len(names)):\n",
    "    val,uni=[],[]\n",
    "    \"define pos, neg\"\n",
    "    for j in range(len(names)):\n",
    "        ovl=[x for x in names[i] if x in names[j]]\n",
    "        if i!=j:\n",
    "            val.append(len(ovl))\n",
    "            for o in ovl:\n",
    "                if o not in uni:\n",
    "                    uni.append(o)\n",
    "        else:\n",
    "            self=len(ovl) #dirty trick for own size\n",
    "            val.append(0)\n",
    "    u.append(uni)\n",
    "    s.append(self)\n",
    "    dists.append(val)\n",
    "    v.append(len(uni)) #length unique list\n",
    "    print(sets[i],self,val,sum(val),len(uni), len(uni)/self, sep=\"\\t\")\n",
    "    "
   ]
  },
  {
   "cell_type": "markdown",
   "metadata": {},
   "source": [
    "The table above can be presented as a heatmap below"
   ]
  },
  {
   "cell_type": "code",
   "execution_count": 8,
   "metadata": {},
   "outputs": [
    {
     "data": {
      "text/plain": [
       "<matplotlib.colorbar.Colorbar at 0x119a4ed30>"
      ]
     },
     "execution_count": 8,
     "metadata": {},
     "output_type": "execute_result"
    },
    {
     "data": {
      "image/png": "[encoded data removed]",
      "text/plain": [
       "<Figure size 432x288 with 2 Axes>"
      ]
     },
     "metadata": {
      "needs_background": "light"
     },
     "output_type": "display_data"
    }
   ],
   "source": [
    "#heatmap figure for similarities between gene sets\n",
    "plt.imshow(dists)\n",
    "plt.yticks(range(len(setnames)),setnames)\n",
    "plt.colorbar()\n",
    "#plt.show()\n"
   ]
  },
  {
   "cell_type": "markdown",
   "metadata": {},
   "source": [
    "Scatter plot can be skipped\n",
    "At the end some summary table for each file used for the Aging List"
   ]
  },
  {
   "cell_type": "code",
   "execution_count": 9,
   "metadata": {},
   "outputs": [
    {
     "name": "stdout",
     "output_type": "stream",
     "text": [
      "make groups of genes by their frequencies of occurrence\n",
      "per set\n",
      "set\ttotal\t>3\t relative\n",
      "Bersenev_GSE39553.csv\t329\t130\t0.3951367781155015\n",
      "Chambers_GSE6503.csv\t1770\t71\t0.04011299435028248\n",
      "Flach_GSE48893.csv\t176\t46\t0.26136363636363635\n",
      "Grover_GSE70657.csv\t99\t39\t0.3939393939393939\n",
      "Kirshner_GSE87631.csv\t30\t12\t0.4\n",
      "Kowalczyk_GSE59114.csv\t272\t63\t0.23161764705882354\n",
      "Lazare_GSE128050.csv\t83\t54\t0.6506024096385542\n",
      "Mann_GSE1004426.csv\t68\t41\t0.6029411764705882\n",
      "Maryanovich_GSE109546.csv\t1100\t173\t0.1572727272727273\n",
      "Norddahl_GSE27686.csv\t625\t172\t0.2752\n",
      "Sun_GSE47817.csv\t2622\t188\t0.07170099160945843\n",
      "Wahlestedt_GSE44923.csv\t313\t155\t0.4952076677316294\n"
     ]
    }
   ],
   "source": [
    "#plot of gene frequencies\n",
    "#plt.plot(freqs,counts, 'o-')\n",
    "#plt.scatter(freqs,counts)\n",
    "#plt.show()\n",
    "\n",
    "print(\"make groups of genes by their frequencies of occurrence\")\n",
    "print(\"per set\")\n",
    "print(\"set\\ttotal\\t>3\\t relative\") #\\t p_hypergeometric\n",
    "rel_dists=[]\n",
    "for val in range(len(sets)):\n",
    "    total,sig=len(names[val]),0\n",
    "    for name in names[val]:\n",
    "        if name in allg:\n",
    "            score=allf[allg.index(name)]\n",
    "            if score>3:\n",
    "                sig+=1\n",
    "    rel_dists.append(float(sig)/float(total))\n",
    "    print(sets[val], total, sig, float(sig)/float(total), sep=\"\\t\") #myp,"
   ]
  },
  {
   "cell_type": "markdown",
   "metadata": {},
   "source": [
    "We can draw those results in different ways. Here is the script to make a \"dart-plot\"\n",
    "of data sets similarity degree to the aging signature. To do so we need to use Set names, their sizes, and relative distances to the Aging Signature. Here we use the last column from the table above, namely relative values (number of genes found in signature divided by total number of genes."
   ]
  },
  {
   "cell_type": "code",
   "execution_count": 10,
   "metadata": {},
   "outputs": [
    {
     "name": "stdout",
     "output_type": "stream",
     "text": [
      "Bersenev_GSE39553.csv\t329\t0.3951367781155015\n",
      "Chambers_GSE6503.csv\t1770\t0.04011299435028248\n",
      "Flach_GSE48893.csv\t176\t0.26136363636363635\n",
      "Grover_GSE70657.csv\t99\t0.3939393939393939\n",
      "Kirshner_GSE87631.csv\t30\t0.4\n",
      "Kowalczyk_GSE59114.csv\t272\t0.23161764705882354\n",
      "Lazare_GSE128050.csv\t83\t0.6506024096385542\n",
      "Mann_GSE1004426.csv\t68\t0.6029411764705882\n",
      "Maryanovich_GSE109546.csv\t1100\t0.1572727272727273\n",
      "Norddahl_GSE27686.csv\t625\t0.2752\n",
      "Sun_GSE47817.csv\t2622\t0.07170099160945843\n",
      "Wahlestedt_GSE44923.csv\t313\t0.4952076677316294\n"
     ]
    }
   ],
   "source": [
    "sizes=[len(x) for x in names]\n",
    "for i in range(len(sizes)):\n",
    "    print(sets[i], sizes[i],rel_dists[i], sep=\"\\t\")"
   ]
  },
  {
   "cell_type": "markdown",
   "metadata": {},
   "source": [
    "if sets, sizes and rel_dists are OK, we can do a little geometric exersise and draw the \"dart-Plot\". First, we make some scale adjustments to the data. It is needed to adjust it to the figure size"
   ]
  },
  {
   "cell_type": "code",
   "execution_count": 11,
   "metadata": {},
   "outputs": [],
   "source": [
    "u,v=[],[]\n",
    "size=[float(x)/10 for x in sizes]\n",
    "dist=[(1-float(x))*10 for x in rel_dists]"
   ]
  },
  {
   "cell_type": "markdown",
   "metadata": {},
   "source": [
    "next we use our geometric knowledge and find positions for the nodes we will draw"
   ]
  },
  {
   "cell_type": "code",
   "execution_count": 12,
   "metadata": {},
   "outputs": [
    {
     "name": "stdout",
     "output_type": "stream",
     "text": [
      "[0.0, 4.7994, 6.3968, 6.0606, 5.1962, 3.8419, 0.0, -1.9853, -7.2982, -7.248, -8.0393, -2.524]\n",
      "[6.0486, 8.3129, 3.6932, 0.0, -3.0, -6.6544, -3.494, -3.4386, -4.2136, -0.0, 4.6415, 4.3716]\n"
     ]
    }
   ],
   "source": [
    "setlength=len(dist)\n",
    "for i in range(setlength):\n",
    "    u.append(round(math.sin(i*2*np.pi/setlength)*float(dist[i]),4))\n",
    "    v.append(round(math.cos(i*2*np.pi/setlength)*float(dist[i]),4))\n",
    "print(u)\n",
    "print(v)"
   ]
  },
  {
   "cell_type": "markdown",
   "metadata": {},
   "source": [
    "Now we can draw our nodes and edges. Note that colors and line thickness can be changed too"
   ]
  },
  {
   "cell_type": "code",
   "execution_count": 13,
   "metadata": {},
   "outputs": [
    {
     "data": {
      "image/png": "[encoded data removed]",
      "text/plain": [
       "<Figure size 1080x720 with 2 Axes>"
      ]
     },
     "metadata": {
      "needs_background": "light"
     },
     "output_type": "display_data"
    }
   ],
   "source": [
    "from matplotlib.patches import Ellipse\n",
    "import numpy.random as rnd\n",
    "\n",
    "#my struggles to control the figure size\n",
    "#plt.figure(figsize=(15,5))\n",
    "fig, axes= plt.subplots(nrows=1, ncols=1,figsize=(15,10))\n",
    "#fig = plt.figure(0)\n",
    "ax = fig.add_subplot(111)#, aspect='equal')\n",
    "\"draw ellipses\"\n",
    "for i in range(len(u)):\n",
    "    ells = [Ellipse(xy=(u[i],v[i]), width=size[i]/30, height=size[i]/30,\n",
    "                    facecolor=rnd.rand(3),alpha=0.9, edgecolor=\"black\")]\n",
    "    for e in ells:\n",
    "        ax.add_artist(e)\n",
    "\"add lines\"\n",
    "for i in range(len(v)):\n",
    "    plt.plot([0,u[i]],[0,v[i]],\"--\", color=\"black\")\n",
    "    plt.text(u[i],v[i],sets[i][:-7])\n",
    "\"add central hub\"\n",
    "ell=Ellipse(xy=(0,0), width=1, height=1,facecolor=\"red\",alpha=1, edgecolor=\"black\")\n",
    "ax.add_artist(ell)\n",
    "\n",
    "ax.set_xlim(min(u+v)-20, max(u+v)+20)\n",
    "ax.set_ylim(min(u+v)-10, max(u+v)+10)\n",
    "\n",
    "#ax.set_aspect(0.9) #shape of the graph rectangle\n",
    "plt.gca().axes.get_yaxis().set_visible(False)\n",
    "plt.gca().axes.get_xaxis().set_visible(False)"
   ]
  },
  {
   "cell_type": "markdown",
   "metadata": {},
   "source": [
    "Depending on your browser you might see the same figures differently.  Details can be found in stackoverflow: https://stackoverflow.com/questions/19410042/how-to-make-ipython-notebook-matplotlib-plot-inline\n",
    "Further adjustments are probably better to make in regular IDEs, like Spyder3 or PyCharm CE. \n"
   ]
  }
 ],
 "metadata": {
  "kernelspec": {
   "display_name": "Python 3",
   "language": "python",
   "name": "python3"
  },
  "language_info": {
   "codemirror_mode": {
    "name": "ipython",
    "version": 3
   },
   "file_extension": ".py",
   "mimetype": "text/x-python",
   "name": "python",
   "nbconvert_exporter": "python",
   "pygments_lexer": "ipython3",
   "version": "3.7.2"
  }
 },
 "nbformat": 4,
 "nbformat_minor": 2
}
