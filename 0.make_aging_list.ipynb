{
  "nbformat": 4,
  "nbformat_minor": 0,
  "metadata": {
    "kernelspec": {
      "display_name": "Python 3",
      "language": "python",
      "name": "python3"
    },
    "language_info": {
      "codemirror_mode": {
        "name": "ipython",
        "version": 3
      },
      "file_extension": ".py",
      "mimetype": "text/x-python",
      "name": "python",
      "nbconvert_exporter": "python",
      "pygments_lexer": "ipython3",
      "version": "3.7.2"
    },
    "colab": {
      "name": "0.new_make_aging_list.ipynb",
      "provenance": [],
      "collapsed_sections": [],
      "include_colab_link": true
    }
  },
  "cells": [
    {
      "cell_type": "markdown",
      "metadata": {
        "id": "view-in-github",
        "colab_type": "text"
      },
      "source": [
        "<a href=\"https://colab.research.google.com/github/LeonidBystrykh/data-for-manuscript/blob/scripts/0.make_aging_list.ipynb\" target=\"_parent\"><img src=\"https://colab.research.google.com/assets/colab-badge.svg\" alt=\"Open In Colab\"/></a>"
      ]
    },
    {
      "cell_type": "markdown",
      "metadata": {
        "id": "-aofN722Cl7z"
      },
      "source": [
        "This is a version which uses source data from GitHub directly.\n",
        "I keep options for saving data in old (offline) style\n",
        "\n",
        "Probably the first script to use.\n",
        "You will need series of files with lists of differentially expressed genes.\n",
        "This script will compile a unified list of all genes from all lists and give a citation frequency of each gene. By our definition (used through the paper) all genes with frequency above 3 comprise the Aging Signature list. \n",
        "\n",
        "Make nesessary preparations for the analysis of the aging data. You will need:\n",
        "1. Recent python 3+ version\n",
        "2. Installed jupyter notebook (via anaconda or standalone). Note, you can use Colab on Google Drive (I use it to update these scripts). If you are in colab, you can access source files directly from the GitHub, no need to download (at least it works for me).\n",
        "3. Source files. The files used in the paper can be found next to this script. They are all uniformly organised as tab-separated text files. Each of them contains two lines of headings. Gene names are in the second column, fold changes are in the third column. All other data are not used in current scripts.\n",
        "Note that python counts from 0, therefore the second column is *col[1]*, and the 3rd column is *col[2]* "
      ]
    },
    {
      "cell_type": "markdown",
      "metadata": {
        "id": "UR062yzMCl79"
      },
      "source": [
        "Import necessary packages"
      ]
    },
    {
      "cell_type": "code",
      "metadata": {
        "id": "1jW7IWDECl7-",
        "colab": {
          "base_uri": "https://localhost:8080/"
        },
        "outputId": "8f596386-998e-49ff-856a-7f50e6eb2b8d"
      },
      "source": [
        "import matplotlib.pyplot as plt, numpy as np, math, scipy.stats as stats \n",
        "import pandas as pd \n",
        "from urllib.request import urlopen\n",
        "print(\"imported\")"
      ],
      "execution_count": 1,
      "outputs": [
        {
          "output_type": "stream",
          "text": [
            "imported\n"
          ],
          "name": "stdout"
        }
      ]
    },
    {
      "cell_type": "markdown",
      "metadata": {
        "id": "7vrYFr8QCl7-"
      },
      "source": [
        "This version reads source files from my GitHub. However, I did not make a modification for saving results in the GitHub. Those parts of the script are still in the offline style. <br>\n",
        "List all files you will import for analysis: \"sets\"\n",
        "Make shortlists from all signature files: \"setnames\"\n",
        "The block below is for META-files, meaning they are derived from the supplementary files provided by authors. "
      ]
    },
    {
      "cell_type": "code",
      "metadata": {
        "id": "j_FIYAbSCl7_"
      },
      "source": [
        "#meta data from meta directory\n",
        "sets=[\"Beerman_2013.txt\",\"Chambers_2007.txt\",\"Flach_2014.txt\",\"Grover_2016.txt\",\n",
        "    \"Kirshner_2017.txt\",\"Kowalczyk_2015.txt\",\"Noda_2009.txt\",\"Quere_2014.txt\",\n",
        "    \"Rossi_2005.txt\",\"Sun_2014.txt\",\"Wahlestedt_2013.txt\"]\n",
        "setnames=[x[:-4] for x in sets]\n",
        "\"add  other list to the list of other files\"\n",
        "\"extra file for DGSE plot and comparison to others\"\n",
        "#for online files in GitHub\n",
        "url=\"https://github.com/LeonidBystrykh/data-for-manuscript/blob/meta/\"\n",
        "#for offline use your directory \n",
        "mdir=\"/Users/leonid_bystrykh/Documents/.../AgingSign/data/meta/\""
      ],
      "execution_count": 2,
      "outputs": []
    },
    {
      "cell_type": "markdown",
      "metadata": {
        "id": "3NX6o0XiCl7_"
      },
      "source": [
        "The block below is for reanalysed files.  The structure and variable names are the same as above, therefore you can use either of those block, but not both at the same time (this is not recommended, because some of the files will be partial duplicates of itself and cause statistical bias)."
      ]
    },
    {
      "cell_type": "code",
      "metadata": {
        "id": "K5HXNQiXCl8B"
      },
      "source": [
        "#reanalysed files from rean directory\n",
        "sets=[\"Bersenev_GSE39553.csv\",\"Chambers_GSE6503.csv\",\n",
        "    \"Flach_GSE48893.csv\",\"Grover_GSE70657.csv\",\n",
        "    \"Kirschner_GSE87631.csv\",\"Kowalczyk_GSE59114.csv\",\n",
        "    \"Lazare_GSE128050.csv\",\"Mann_GSE1004426.csv\",\n",
        "      \"Maryanovich_GSE109546.csv\",\"Norddahl_GSE27686.csv\",\n",
        "      \"Sun_GSE47817.csv\",\"Wahlestedt_GSE44923.csv\"]\n",
        "setnames=[x[:-4] for x in sets]\n",
        "\"add  other list to the list of other files\"\n",
        "\"extra file for DGSE plot and comparison to others\"\n",
        "#if I am offline\n",
        "#mdir=\"/Users/leonid_bystrykh/Documents/.../AgingSign/data/rean/\"\n",
        "#direct access to files in my GitHub\n",
        "url=\"https://github.com/LeonidBystrykh/data-for-manuscript/blob/rean/\""
      ],
      "execution_count": 3,
      "outputs": []
    },
    {
      "cell_type": "markdown",
      "metadata": {
        "id": "vuYhEx1xCl8C"
      },
      "source": [
        "open every file and collect all names of genes\n",
        "names is set of sets, \n",
        "fcs are fold changes per gene\n",
        "allg (all genes) and \n",
        "allf (all found times) are united set with frequencies"
      ]
    },
    {
      "cell_type": "code",
      "metadata": {
        "id": "pXUnXeulCl8C",
        "colab": {
          "base_uri": "https://localhost:8080/"
        },
        "outputId": "d8c7fc22-a68a-46b2-954a-e0bdccf59be5"
      },
      "source": [
        "\"\"\"here I have to make lists of gene names per set, fold changes per gene per set,\n",
        "list of all genes in all sets and frequencies of genes in all set\"\"\"\n",
        "names,fcs,allg,allf, allgenes=[],[],[],[],[]\n",
        "print(\"files loaded\")\n",
        "for fl in sets:\n",
        "    print(url+fl)\n",
        "#    file = urlopen(url+ fl +\"?raw=True\")\n",
        "    mytable=pd.read_csv(url+fl+\"?raw=True\",index_col=0, skiprows=0, header=1, sep=\"\\t\")\n",
        "    na,fc=mytable[mytable.columns[0]],mytable[mytable.columns[1]] #list of genes (na) and frequencies (fc) per set\n",
        "    names.append(list(na))\n",
        "    fcs.append(list(fc))\n",
        "    allgenes+=list(na)\n",
        "for name in set(allgenes):\n",
        "  allg.append(name)\n",
        "  allf.append(allgenes.count(name))"
      ],
      "execution_count": 4,
      "outputs": [
        {
          "output_type": "stream",
          "text": [
            "files loaded\n",
            "https://github.com/LeonidBystrykh/data-for-manuscript/blob/rean/Bersenev_GSE39553.csv\n",
            "https://github.com/LeonidBystrykh/data-for-manuscript/blob/rean/Chambers_GSE6503.csv\n",
            "https://github.com/LeonidBystrykh/data-for-manuscript/blob/rean/Flach_GSE48893.csv\n",
            "https://github.com/LeonidBystrykh/data-for-manuscript/blob/rean/Grover_GSE70657.csv\n",
            "https://github.com/LeonidBystrykh/data-for-manuscript/blob/rean/Kirschner_GSE87631.csv\n",
            "https://github.com/LeonidBystrykh/data-for-manuscript/blob/rean/Kowalczyk_GSE59114.csv\n",
            "https://github.com/LeonidBystrykh/data-for-manuscript/blob/rean/Lazare_GSE128050.csv\n",
            "https://github.com/LeonidBystrykh/data-for-manuscript/blob/rean/Mann_GSE1004426.csv\n",
            "https://github.com/LeonidBystrykh/data-for-manuscript/blob/rean/Maryanovich_GSE109546.csv\n",
            "https://github.com/LeonidBystrykh/data-for-manuscript/blob/rean/Norddahl_GSE27686.csv\n",
            "https://github.com/LeonidBystrykh/data-for-manuscript/blob/rean/Sun_GSE47817.csv\n",
            "https://github.com/LeonidBystrykh/data-for-manuscript/blob/rean/Wahlestedt_GSE44923.csv\n"
          ],
          "name": "stdout"
        }
      ]
    },
    {
      "cell_type": "code",
      "metadata": {
        "colab": {
          "base_uri": "https://localhost:8080/"
        },
        "id": "Rt-7caO1e952",
        "outputId": "e83ac8e5-697c-4ebc-a990-748b993c593a"
      },
      "source": [
        "#This part works with a nasty glitch. On a Github it prints all lists in full length\n",
        "#Therefore better skip it or print something short instead\n",
        "#print(\"Names\", len(names), names[:10])\n",
        "#print(\"FCs\", fcs[:10])\n",
        "#print(\"All genes\", len(allg), allg[:10])\n",
        "#print(\"All frequencies\", len(allf), allf[:10])\n",
        "print(\"Checked\")"
      ],
      "execution_count": null,
      "outputs": [
        {
          "output_type": "stream",
          "text": [
            "Checked\n"
          ],
          "name": "stdout"
        }
      ]
    },
    {
      "cell_type": "code",
      "metadata": {
        "colab": {
          "base_uri": "https://localhost:8080/"
        },
        "id": "xgLvp20of6CH",
        "outputId": "7ebfd77d-98d5-48f4-afa3-1c87f6cca3ef"
      },
      "source": [
        "#all genes list needs some cleaning, remove nameless 'nan' items and multiple names \n",
        "new_g, new_fc=[],[]\n",
        "for i in range(len(allg)):\n",
        " # print(allg[i])\n",
        "  if str('///') in str(allg[i]): \n",
        "    pass\n",
        "  elif str(allg[i])=='nan':\n",
        "    pass\n",
        "  else:\n",
        "    new_g.append(allg[i])\n",
        "    new_fc.append(allf)\n",
        "print(\"filtered genes\", len(new_g))\n",
        "print(\"filtered_freqs\", len(new_fc))\n",
        "allg,allf=new_g, new_fc"
      ],
      "execution_count": null,
      "outputs": [
        {
          "output_type": "stream",
          "text": [
            "filtered genes 5343\n",
            "filtered_freqs 5343\n"
          ],
          "name": "stdout"
        }
      ]
    },
    {
      "cell_type": "markdown",
      "metadata": {
        "id": "B0PyVPJpCl8E"
      },
      "source": [
        "All requred data are collected.\n",
        "We can check every set name, lenth of every gene set, print first 10 names from each set\n",
        "We also check for possible damage in gene names.\n",
        "Some tables, when open/saved in excel loose original gene names, which became a dates, like \"Mar-2\", or \"Sep-5\". so we collect those if they are (or any other characters)"
      ]
    },
    {
      "cell_type": "code",
      "metadata": {
        "id": "1GDKkkWbCl8F",
        "colab": {
          "base_uri": "https://localhost:8080/"
        },
        "outputId": "0d33554f-0cf6-401a-c5da-eef5e9003886"
      },
      "source": [
        "print(\"summary\")\n",
        "for i in range(len(sets)):\n",
        "        print(sets[i],len(names[i]),names[i][:5],\"...\")\n",
        "        mar=[x for x in names[i] if \"Sep-\" in str(x)]\n",
        "        if len(mar)>0:\n",
        "            print(\"found Mar\", sets[i], mar)\n",
        "    "
      ],
      "execution_count": null,
      "outputs": [
        {
          "output_type": "stream",
          "text": [
            "summary\n",
            "Bersenev_GSE39553.csv 330 ['Mt2', 'Plscr2', 'Selp', 'Clca3a1', 'Bmpr1a'] ...\n",
            "Chambers_GSE6503.csv 2059 ['Vopp1', 'Smc6', 'Prkrip1', 'Acvr2b', 'Smek2'] ...\n",
            "Flach_GSE48893.csv 181 ['Gpr183', 'Socs2', 'Tdrd9', 'Ebi3', 'Fyb'] ...\n",
            "Grover_GSE70657.csv 99 ['Erdr1', 'Xist', 'Eif2s3y', 'Mt1', 'Nupr1'] ...\n",
            "Kirschner_GSE87631.csv 30 ['Fosb', 'Fos', 'Erdr1', 'Mt1', 'Nfkbid'] ...\n",
            "Kowalczyk_GSE59114.csv 272 ['uc012hdk.1', 'Clca1', 'Mt1', 'Nupr1', 'Selp'] ...\n",
            "Lazare_GSE128050.csv 83 ['Uhrf1', 'Ramp2', 'Vwf', 'Gria3', 'Cd34'] ...\n",
            "Mann_GSE1004426.csv 68 ['Nupr1', 'Gda', 'Selp', 'Sult1a1', 'Clec1a'] ...\n",
            "Maryanovich_GSE109546.csv 1100 ['Gnai3', 'Tbx4', 'Xpo6', 'Ccnd2', 'Mid2'] ...\n",
            "Norddahl_GSE27686.csv 775 ['Gpr183', 'Ctse', 'Eya4', 'Tc2n', 'Wwtr1'] ...\n",
            "Sun_GSE47817.csv 2622 ['Gnai3', 'Slfn4', 'Drp2', 'Mid2', 'Tpd52l1'] ...\n",
            "Wahlestedt_GSE44923.csv 395 ['Sbspon', 'Osmr', 'Tc2n', 'Wwtr1', 'Pgr'] ...\n"
          ],
          "name": "stdout"
        }
      ]
    },
    {
      "cell_type": "markdown",
      "metadata": {
        "id": "0Libq7vPCl8G"
      },
      "source": [
        "Here is the block to collect all frequencies for all genes. It is needed to calculate average fold change for each gene, which comes next after this block."
      ]
    },
    {
      "cell_type": "code",
      "metadata": {
        "id": "34YbEJ7rCl8G",
        "colab": {
          "base_uri": "https://localhost:8080/"
        },
        "outputId": "d675175b-4f98-41d3-af15-35b6d274333c"
      },
      "source": [
        "allfcs=[] #all fold changes\n",
        "for gene in allg:\n",
        "    folds=[]\n",
        "    for i in range(len(names)):\n",
        "        for j in range(len(names[i])):\n",
        "            if gene==names[i][j]:\n",
        "                folds.append(fcs[i][j])\n",
        "    allfcs.append(folds)\n",
        "print(\"ready to make the AgingList file\")"
      ],
      "execution_count": null,
      "outputs": [
        {
          "output_type": "stream",
          "text": [
            "ready to make the AgingList file\n"
          ],
          "name": "stdout"
        }
      ]
    },
    {
      "cell_type": "markdown",
      "metadata": {
        "id": "aXbTN8bECl8G"
      },
      "source": [
        "Now we can save the data in the Aging List file.\n",
        "Choose one of two blocks below, depending on what set of data you have used. We will save average of all fold changes.\n",
        "We can also save all fold changes as a list in a separate column, if we want. To do so just add allfcs[i] as separate column in f_out.writelines() line\n",
        "\n",
        "block below is for META data, and the list will be saved into \"rean_gene_fcs_META.txt\"."
      ]
    },
    {
      "cell_type": "code",
      "metadata": {
        "id": "RtISbgpuCl8H"
      },
      "source": [
        "f_out=open(\"Aging_List_META.txt\",\"w\")\n",
        "f_out.writelines(\"Gene\\tFreq_group\\tLog2FC\\n\")\n",
        "\n",
        "for i in range(len(allg)):\n",
        "   # print(allg[i],allf[i], allfcs[i])\n",
        "    f_out.writelines(allg[i]+\"\\t\"+str(allf[i])+\"\\t\"+str(sum(allfcs[i])/len(allfcs[i]))+\"\\n\")\n",
        "f_out.close()"
      ],
      "execution_count": null,
      "outputs": []
    },
    {
      "cell_type": "markdown",
      "metadata": {
        "id": "UyBUbnW5Cl8H"
      },
      "source": [
        "block below is for reanalysed data, and the list will be saved into \"rean_gene_fcs_REAN.txt\"."
      ]
    },
    {
      "cell_type": "code",
      "metadata": {
        "id": "vuVuIB5BCl8H",
        "outputId": "71638ddc-49e3-4d3e-f0e7-d3ec518bba8c"
      },
      "source": [
        "f_out=open(\"Aging_List_REAN.txt\",\"w\")\n",
        "f_out.writelines(\"Gene\\tFreq_group\\tLog2FC\\n\")\n",
        "\n",
        "for i in range(len(allg)):\n",
        "   # print(allg[i],allf[i], allfcs[i])\n",
        "    f_out.writelines(allg[i]+\"\\t\"+str(allf[i])+\"\\t\"+str(sum(allfcs[i])/len(allfcs[i]))+\"\\n\")\n",
        "f_out.close()\n",
        "print(\"AgingList saved\")"
      ],
      "execution_count": null,
      "outputs": [
        {
          "output_type": "stream",
          "text": [
            "AgingList saved\n"
          ],
          "name": "stdout"
        }
      ]
    },
    {
      "cell_type": "markdown",
      "metadata": {
        "id": "dXg5Yl2aCl8I"
      },
      "source": [
        "In principle, the Aging List is the most important part of the scipt. You can stop here and proceed with the next script for further study and use of the aging signature. \n",
        "Below are some additional files which you can use if you want it.\n",
        "Here is a cross-comparison of all files used for the list."
      ]
    },
    {
      "cell_type": "code",
      "metadata": {
        "id": "IHB3Fe0kCl8I",
        "colab": {
          "base_uri": "https://localhost:8080/"
        },
        "outputId": "d5125a69-cb61-4659-c3bf-549452dbb82a"
      },
      "source": [
        "print(\"table of intersects\\t set_size\\t Intersects_tab\\t all_intersected\\t nr_intersected\\t fraction_intersected\")\n",
        "s,v,u,dists=[],[],[],[] # u for unique genes\n",
        "for i in range(len(names)):\n",
        "    val,uni=[],[]\n",
        "    \"define pos, neg\"\n",
        "    for j in range(len(names)):\n",
        "        ovl=[x for x in names[i] if x in names[j]]\n",
        "        if i!=j:\n",
        "            val.append(len(ovl))\n",
        "            for o in ovl:\n",
        "                if o not in uni:\n",
        "                    uni.append(o)\n",
        "        else:\n",
        "            self=len(ovl) #dirty trick for own size\n",
        "            val.append(0)\n",
        "    u.append(uni)\n",
        "    s.append(self)\n",
        "    dists.append(val)\n",
        "    v.append(len(uni)) #length unique list\n",
        "    print(sets[i],self,val,sum(val),len(uni), len(uni)/self, sep=\"\\t\")\n",
        "    "
      ],
      "execution_count": null,
      "outputs": [
        {
          "output_type": "stream",
          "text": [
            "table of intersects\t set_size\t Intersects_tab\t all_intersected\t nr_intersected\t fraction_intersected\n",
            "Bersenev_GSE39553.csv\t330\t[0, 49, 31, 31, 12, 40, 45, 23, 140, 123, 176, 112]\t782\t252\t0.7636363636363637\n",
            "Chambers_GSE6503.csv\t2059\t[84, 0, 58, 38, 10, 63, 21, 18, 169, 165, 208, 97]\t931\t353\t0.1714424477901894\n",
            "Flach_GSE48893.csv\t181\t[33, 32, 0, 11, 5, 18, 13, 9, 37, 42, 39, 29]\t268\t89\t0.49171270718232046\n",
            "Grover_GSE70657.csv\t99\t[31, 29, 11, 0, 7, 28, 14, 18, 25, 34, 31, 25]\t253\t65\t0.6565656565656566\n",
            "Kirschner_GSE87631.csv\t30\t[12, 8, 5, 7, 0, 9, 5, 5, 8, 10, 8, 9]\t86\t20\t0.6666666666666666\n",
            "Kowalczyk_GSE59114.csv\t272\t[40, 46, 18, 28, 9, 0, 15, 32, 51, 56, 70, 38]\t403\t131\t0.48161764705882354\n",
            "Lazare_GSE128050.csv\t83\t[45, 17, 13, 14, 5, 15, 0, 17, 56, 46, 74, 41]\t343\t76\t0.9156626506024096\n",
            "Mann_GSE1004426.csv\t68\t[23, 13, 9, 18, 5, 32, 17, 0, 33, 37, 34, 30]\t251\t55\t0.8088235294117647\n",
            "Maryanovich_GSE109546.csv\t1100\t[140, 140, 37, 25, 8, 51, 56, 33, 0, 179, 503, 139]\t1311\t619\t0.5627272727272727\n",
            "Norddahl_GSE27686.csv\t775\t[179, 182, 84, 61, 15, 77, 69, 63, 238, 0, 348, 287]\t1603\t442\t0.5703225806451613\n",
            "Sun_GSE47817.csv\t2622\t[176, 173, 39, 31, 8, 70, 74, 34, 503, 275, 0, 168]\t1551\t790\t0.3012967200610221\n",
            "Wahlestedt_GSE44923.csv\t395\t[165, 107, 60, 43, 14, 52, 62, 48, 177, 282, 209, 0]\t1219\t271\t0.6860759493670886\n"
          ],
          "name": "stdout"
        }
      ]
    },
    {
      "cell_type": "markdown",
      "metadata": {
        "id": "5GmYrQkkCl8I"
      },
      "source": [
        "The table above can be presented as a heatmap below"
      ]
    },
    {
      "cell_type": "code",
      "metadata": {
        "id": "R7lv89eVCl8J",
        "colab": {
          "base_uri": "https://localhost:8080/",
          "height": 268
        },
        "outputId": "8006a11f-107f-4f79-9e36-49b74902230b"
      },
      "source": [
        "#heatmap figure for similarities between gene sets\n",
        "plt.imshow(dists)\n",
        "plt.yticks(range(len(setnames)),setnames)\n",
        "plt.colorbar();\n",
        "#plt.show()\n"
      ],
      "execution_count": null,
      "outputs": [
        {
          "output_type": "display_data",
          "data": {
            "image/png": "[encoded data removed]",
            "text/plain": [
              "<Figure size 432x288 with 2 Axes>"
            ]
          },
          "metadata": {
            "tags": [],
            "needs_background": "light"
          }
        }
      ]
    },
    {
      "cell_type": "code",
      "metadata": {
        "colab": {
          "base_uri": "https://localhost:8080/"
        },
        "id": "PxEkq_X1Ue11",
        "outputId": "365ea802-62a7-406f-fc46-4769cf6124ff"
      },
      "source": [
        "#check variables for the block below\n",
        "print(len(names))\n",
        "print(len(names[0]))\n",
        "print(names[0][0])\n",
        "#print(len(allg), allg[:10])\n",
        "#print(len(allf), allf[:10])"
      ],
      "execution_count": null,
      "outputs": [
        {
          "output_type": "stream",
          "text": [
            "12\n",
            "330\n",
            "Mt2\n"
          ],
          "name": "stdout"
        }
      ]
    },
    {
      "cell_type": "markdown",
      "metadata": {
        "id": "GjBclVCGCl8J"
      },
      "source": [
        "The block below seems to have a trouble in colab, more power is needed.\n",
        "At the end some summary table for each file used for the Aging List"
      ]
    },
    {
      "cell_type": "code",
      "metadata": {
        "id": "rZyQziteCl8J",
        "colab": {
          "base_uri": "https://localhost:8080/"
        },
        "outputId": "f4816730-cfc8-4fc3-e0da-f36c65398d94"
      },
      "source": [
        "print(\"Colab cannot handle this part. Do it offline\")\n",
        "#print(\"make groups of genes by their frequencies of occurrence\")\n",
        "#print(\"per set\")\n",
        "#print(\"set\\ttotal\\t>3\\t relative\") #\\t p_hypergeometric\n",
        "#rel_dists=[]\n",
        "#for val in range(len(sets)):\n",
        "#    total,sig=len(names[val]),0\n",
        "#    for name in names[val]:\n",
        "#        if name in allg:\n",
        "#            score=allf[allg.index(name)]\n",
        "#            print(name, score)\n",
        "#            if int(score)>3:\n",
        "#                sig+=1\n",
        "#    rel_dists.append(float(sig)/float(total))\n",
        "#    print(sets[val], total, sig, float(sig)/float(total), sep=\"\\t\") #myp,"
      ],
      "execution_count": null,
      "outputs": [
        {
          "output_type": "stream",
          "text": [
            "Colab cannot handle this part. Do it offline\n"
          ],
          "name": "stdout"
        }
      ]
    },
    {
      "cell_type": "markdown",
      "metadata": {
        "id": "zOLgqs4pCl8K"
      },
      "source": [
        "We can draw those results in different ways. Here is the script to make a \"dart-plot\"\n",
        "of data sets similarity degree to the aging signature. To do so we need to use Set names, their sizes, and relative distances to the Aging Signature. Here we use the last column from the table above, namely relative values (number of genes found in signature divided by total number of genes."
      ]
    },
    {
      "cell_type": "code",
      "metadata": {
        "id": "7XSrOPOICl8K",
        "colab": {
          "base_uri": "https://localhost:8080/"
        },
        "outputId": "13d32c42-e800-41c0-b8c1-f99b5b56e9da"
      },
      "source": [
        "sizes=[len(x) for x in names]\n",
        "for i in range(len(sizes)):\n",
        "    print(sets[i], sizes[i],\n",
        "          #rel_dists[i], #this part is calculated i\n",
        "          sep=\"\\t\")"
      ],
      "execution_count": null,
      "outputs": [
        {
          "output_type": "stream",
          "text": [
            "Bersenev_GSE39553.csv\t330\n",
            "Chambers_GSE6503.csv\t2059\n",
            "Flach_GSE48893.csv\t181\n",
            "Grover_GSE70657.csv\t99\n",
            "Kirschner_GSE87631.csv\t30\n",
            "Kowalczyk_GSE59114.csv\t272\n",
            "Lazare_GSE128050.csv\t83\n",
            "Mann_GSE1004426.csv\t68\n",
            "Maryanovich_GSE109546.csv\t1100\n",
            "Norddahl_GSE27686.csv\t775\n",
            "Sun_GSE47817.csv\t2622\n",
            "Wahlestedt_GSE44923.csv\t395\n"
          ],
          "name": "stdout"
        }
      ]
    },
    {
      "cell_type": "markdown",
      "metadata": {
        "id": "TbHW1_YUCl8L"
      },
      "source": [
        "if sets, sizes and rel_dists are OK, we can do a little geometric exersise and draw the \"dart-Plot\". First, we make some scale adjustments to the data. It is needed to adjust it to the figure size"
      ]
    },
    {
      "cell_type": "code",
      "metadata": {
        "id": "Em7Mj3K4Cl8L"
      },
      "source": [
        "u,v=[],[]\n",
        "size=[float(x)/10 for x in sizes]\n",
        "dist=[(1-float(x))*10 for x in rel_dists]"
      ],
      "execution_count": null,
      "outputs": []
    },
    {
      "cell_type": "markdown",
      "metadata": {
        "id": "7U9nRzTiCl8L"
      },
      "source": [
        "next we use our geometric knowledge and find positions for the nodes we will draw"
      ]
    },
    {
      "cell_type": "code",
      "metadata": {
        "id": "ocBkfrlUCl8L",
        "outputId": "a1c8ad7f-cc7c-48f3-afbb-1f9c67c848a3"
      },
      "source": [
        "setlength=len(dist)\n",
        "for i in range(setlength):\n",
        "    u.append(round(math.sin(i*2*np.pi/setlength)*float(dist[i]),4))\n",
        "    v.append(round(math.cos(i*2*np.pi/setlength)*float(dist[i]),4))\n",
        "print(u)\n",
        "print(v)"
      ],
      "execution_count": null,
      "outputs": [
        {
          "output_type": "stream",
          "text": [
            "[0.0, 4.7994, 6.3968, 6.0606, 5.1962, 3.8419, 0.0, -1.9853, -7.2982, -7.248, -8.0393, -2.524]\n",
            "[6.0486, 8.3129, 3.6932, 0.0, -3.0, -6.6544, -3.494, -3.4386, -4.2136, -0.0, 4.6415, 4.3716]\n"
          ],
          "name": "stdout"
        }
      ]
    },
    {
      "cell_type": "markdown",
      "metadata": {
        "id": "2M0p1PjjCl8L"
      },
      "source": [
        "Now we can draw our nodes and edges. Note that colors and line thickness can be changed too"
      ]
    },
    {
      "cell_type": "code",
      "metadata": {
        "id": "1G5pr6BPCl8L",
        "outputId": "a47b44c1-476a-498c-d599-cdab430bc038"
      },
      "source": [
        "from matplotlib.patches import Ellipse\n",
        "import numpy.random as rnd\n",
        "\n",
        "#my struggles to control the figure size\n",
        "#plt.figure(figsize=(15,5))\n",
        "fig, axes= plt.subplots(nrows=1, ncols=1,figsize=(15,10))\n",
        "#fig = plt.figure(0)\n",
        "ax = fig.add_subplot(111)#, aspect='equal')\n",
        "\"draw ellipses\"\n",
        "for i in range(len(u)):\n",
        "    ells = [Ellipse(xy=(u[i],v[i]), width=size[i]/30, height=size[i]/30,\n",
        "                    facecolor=rnd.rand(3),alpha=0.9, edgecolor=\"black\")]\n",
        "    for e in ells:\n",
        "        ax.add_artist(e)\n",
        "\"add lines\"\n",
        "for i in range(len(v)):\n",
        "    plt.plot([0,u[i]],[0,v[i]],\"--\", color=\"black\")\n",
        "    plt.text(u[i],v[i],sets[i][:-7])\n",
        "\"add central hub\"\n",
        "ell=Ellipse(xy=(0,0), width=1, height=1,facecolor=\"red\",alpha=1, edgecolor=\"black\")\n",
        "ax.add_artist(ell)\n",
        "\n",
        "ax.set_xlim(min(u+v)-20, max(u+v)+20)\n",
        "ax.set_ylim(min(u+v)-10, max(u+v)+10)\n",
        "\n",
        "#ax.set_aspect(0.9) #shape of the graph rectangle\n",
        "plt.gca().axes.get_yaxis().set_visible(False)\n",
        "plt.gca().axes.get_xaxis().set_visible(False)"
      ],
      "execution_count": null,
      "outputs": [
        {
          "output_type": "display_data",
          "data": {
            "image/png": "[encoded data removed]",
            "text/plain": [
              "<Figure size 1080x720 with 2 Axes>"
            ]
          },
          "metadata": {
            "tags": [],
            "needs_background": "light"
          }
        }
      ]
    },
    {
      "cell_type": "markdown",
      "metadata": {
        "id": "2CJGCw9iCl8N"
      },
      "source": [
        "Depending on your browser you might see the same figures differently.  Details can be found in stackoverflow: https://stackoverflow.com/questions/19410042/how-to-make-ipython-notebook-matplotlib-plot-inline\n",
        "Further adjustments are probably better to make in regular IDEs, like Spyder3 or PyCharm CE. \n"
      ]
    }
  ]
}