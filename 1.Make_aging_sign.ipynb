{
 "cells": [
  {
   "cell_type": "markdown",
   "metadata": {},
   "source": [
    "Note this script uses other files than regular differential gene expression tables. These files are not filtered by significance, but by gene names, namely by gene names from the Aging Signature list. The script will collect all those data and make the integral table with all available fold change data for all genes and lists.\n",
    "\n",
    "import packages, make function for getting line items\n",
    "activate matplotlib notebook option (or not, it feels clumsy in both cases)"
   ]
  },
  {
   "cell_type": "code",
   "execution_count": 1,
   "metadata": {},
   "outputs": [],
   "source": [
    "import matplotlib.pyplot as plt, numpy as np\n",
    "from mpl_toolkits.mplot3d import axes3d\n",
    "#activate matplotlib notebook option\n",
    "%matplotlib notebook\n",
    "\n",
    "#function for reading files\n",
    "def getitems(fil):\n",
    "    sfil=open(fil, \"r\"); lines=sfil.readlines(); sfil.close()\n",
    "    items=[x.rstrip().split(\"\\t\") for x  in lines[1:]]\n",
    "    return(items)"
   ]
  },
  {
   "cell_type": "markdown",
   "metadata": {},
   "source": [
    "get aging list from file and make a AS subset"
   ]
  },
  {
   "cell_type": "code",
   "execution_count": 2,
   "metadata": {},
   "outputs": [
    {
     "name": "stdout",
     "output_type": "stream",
     "text": [
      "len all genes 5443\n",
      "len AS 222\n"
     ]
    }
   ],
   "source": [
    "#load list and make signature\n",
    "items=getitems(\"Aging_List_REAN.txt\")\n",
    "#here we definee Aging Signature list as all genes with reference index>3.\n",
    "#It is an arbitrary threshold, and you can change it the way you like\n",
    "ASgenes=[x[0] for x in items if int(x[1])>3]\n",
    "print(\"len all genes\", len(items))\n",
    "print(\"len AS\", len(ASgenes))"
   ]
  },
  {
   "cell_type": "markdown",
   "metadata": {},
   "source": [
    "Now we open all files previously used to make the Aging List and compile the table for genes from Aging Signature only."
   ]
  },
  {
   "cell_type": "code",
   "execution_count": null,
   "metadata": {},
   "outputs": [],
   "source": [
    "#load individual files and collect data\n",
    "mdir=\"/Users/leonid_bystrykh/Documents/Articles&Presentations/2020/AgingSign/data/rean/AS_filtered/\"\n",
    "files=[\"Bersenev_AS.csv\",\"Chambers_AS.csv\",\"Flach_AS.csv\",\"Norddahl_AS.csv\",\"Wahlestedt_AS.csv\",\n",
    "       \"Grover_AS.csv\",\"Kirshner_AS.csv\",\"Kowalczyk_AS.csv\",\"Mann_AS.csv\",\n",
    "    \"Lazare_AS.csv\",\"Maryanovich_AS.csv\",\"Sun_AS.csv\"]"
   ]
  },
  {
   "cell_type": "markdown",
   "metadata": {},
   "source": [
    "the block below will generate the table. This is the most essential part of the script. You can modify it according to you specific needs. Note, that if no data available, the \"0\"-value will be added to the table."
   ]
  },
  {
   "cell_type": "code",
   "execution_count": 6,
   "metadata": {},
   "outputs": [
    {
     "name": "stdout",
     "output_type": "stream",
     "text": [
      "len freqs 12\n"
     ]
    }
   ],
   "source": [
    "logFCs, Gnames=[],[]\n",
    "for file in files:\n",
    "    myitems=getitems(mdir+file)\n",
    "    mygenes=[x[1] for x in myitems]\n",
    "    myfreqs=[float(x[2])for x in myitems]\n",
    "    #collect logFCs, redundant gene names in arrays!\n",
    "    freqs=[]\n",
    "    #loop through signature gene names\n",
    "    for i in range(len(ASgenes)):\n",
    "        fre=[]\n",
    "        #loop through current file \n",
    "        for j in range(len(mygenes)):\n",
    "            if ASgenes[i]==mygenes[j]:\n",
    "                fre.append(myfreqs[j])\n",
    "        freqs.append(fre)\n",
    "    #adjust to single value per gene\n",
    "    new_freqs=[]\n",
    "    for fre in freqs:\n",
    "        if len(fre)>1:\n",
    "            new_freqs.append(sum(fre)/len(fre))\n",
    "        if len(fre)==1:\n",
    "            new_freqs.append(fre[0])\n",
    "        if len(fre)==0:\n",
    "            #if nothing found, add 0 or NA\n",
    "            new_freqs.append(0)\n",
    "    logFCs.append(new_freqs)\n",
    "print(\"len freqs\", len(logFCs))"
   ]
  },
  {
   "cell_type": "markdown",
   "metadata": {},
   "source": [
    "now we can check number of found genes per set"
   ]
  },
  {
   "cell_type": "code",
   "execution_count": 7,
   "metadata": {},
   "outputs": [
    {
     "name": "stdout",
     "output_type": "stream",
     "text": [
      "Bersenev_AS.csv 199\n",
      "Chambers_AS.csv 170\n",
      "Flach_AS.csv 195\n",
      "Norddahl_AS.csv 195\n",
      "Wahlestedt_AS.csv 195\n",
      "Grover_AS.csv 106\n",
      "Kirshner_AS.csv 76\n",
      "Kowalczyk_AS.csv 67\n",
      "Mann_AS.csv 69\n",
      "Lazare_AS.csv 183\n",
      "Maryanovich_AS.csv 183\n",
      "Sun_AS.csv 184\n"
     ]
    }
   ],
   "source": [
    "for i in range(len(files)):\n",
    "    found=[x for x in logFCs[i] if x!=0]\n",
    "    print(files[i], len(found))"
   ]
  },
  {
   "cell_type": "markdown",
   "metadata": {},
   "source": [
    "you can save the table in two formats. I prefer using \"transposed\" option"
   ]
  },
  {
   "cell_type": "code",
   "execution_count": 8,
   "metadata": {},
   "outputs": [
    {
     "name": "stdout",
     "output_type": "stream",
     "text": [
      "saved\n"
     ]
    }
   ],
   "source": [
    "def save_to(file_out):\n",
    "    file_out=\"AS_table.csv\"\n",
    "    f_out=open(file_out, \"w\")\n",
    "    f_out.writelines(\"Genes,\"+ str(ASgenes)[1:-1].replace(\"'\",\"\")+\"\\n\")\n",
    "    for i in range(len(files)):\n",
    "        f_out.writelines(files[i]+\",\"+str(logFCs[i])[1:-1]+\"\\n\")\n",
    "    f_out.close()\n",
    "#save_transposed is convenient format for AS table, where lists per set are in columns\n",
    "def save_transposed():\n",
    "    file_out=\"AS_transposed.csv\"\n",
    "    table=np.transpose(logFCs)\n",
    " #   print(\"table\", table)\n",
    "    f_out=open(file_out, \"w\")\n",
    "    f_out.writelines(\"Genes,\"+ str(files)[1:-1].replace(\"'\",\"\")+\"\\n\")\n",
    "    for i in range(len(ASgenes)):\n",
    "        f_out.writelines(ASgenes[i]+\",\"+str(list(table[i]))[1:-1]+\"\\n\")\n",
    "    f_out.close()\n",
    "save_transposed()\n",
    "print(\"saved\")"
   ]
  },
  {
   "cell_type": "markdown",
   "metadata": {},
   "source": [
    "Just for impression, try PCA plot. Data are reasonably cluster by the platform type. "
   ]
  },
  {
   "cell_type": "code",
   "execution_count": 9,
   "metadata": {},
   "outputs": [
    {
     "name": "stdout",
     "output_type": "stream",
     "text": [
      "length PC 12\n",
      "explained [0.64532487 0.19263811 0.06426772]\n"
     ]
    },
    {
     "data": {
      "text/plain": [
       "Text(0, 0.5, 'PC2 0.193')"
      ]
     },
     "execution_count": 9,
     "metadata": {},
     "output_type": "execute_result"
    },
    {
     "data": {
      "image/png": "[encoded data removed]",
      "text/plain": [
       "<Figure size 432x288 with 1 Axes>"
      ]
     },
     "metadata": {
      "needs_background": "light"
     },
     "output_type": "display_data"
    }
   ],
   "source": [
    "from sklearn.decomposition import PCA\n",
    "fig = plt.figure()\n",
    "ax = fig.add_subplot(111)#, projection='3d')\n",
    "\n",
    "X = np.array(np.transpose(logFCs))\n",
    "pca = PCA(n_components=3)\n",
    "pca.fit(X)\n",
    "pc1=pca.components_[0]\n",
    "print(\"length PC\", len(pc1))\n",
    "pc2=pca.components_[1]\n",
    "pc3=pca.components_[2]\n",
    "colorz=[\"orange\",\"orange\",\"orange\",\"orange\",\"orange\",\"brown\",\"brown\",\"brown\",\"brown\",\"red\",\"red\",\"red\"]\n",
    "print(\"explained\", pca.explained_variance_ratio_)\n",
    "\n",
    "for i in range(len(pc1)): #plot each point + it's index as text above\n",
    "    ax.scatter(pc1[i],pc2[i],color=colorz[i])\n",
    "    ax.text(pc1[i],pc2[i],  files[i][:10])\n",
    "ax.set_xlabel('PC1 '+str(round(pca.explained_variance_ratio_[0],3)))\n",
    "ax.set_ylabel('PC2 '+str(round(pca.explained_variance_ratio_[1],3)))"
   ]
  },
  {
   "cell_type": "markdown",
   "metadata": {},
   "source": [
    "\n",
    "The most distant sets are Maryanovich and Sun, are the most extreme in fold change values. This explains the distances. "
   ]
  }
 ],
 "metadata": {
  "kernelspec": {
   "display_name": "Python 3",
   "language": "python",
   "name": "python3"
  },
  "language_info": {
   "codemirror_mode": {
    "name": "ipython",
    "version": 3
   },
   "file_extension": ".py",
   "mimetype": "text/x-python",
   "name": "python",
   "nbconvert_exporter": "python",
   "pygments_lexer": "ipython3",
   "version": "3.7.2"
  }
 },
 "nbformat": 4,
 "nbformat_minor": 2
}
