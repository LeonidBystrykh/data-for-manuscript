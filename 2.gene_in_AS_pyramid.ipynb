{
 "cells": [
  {
   "cell_type": "markdown",
   "metadata": {},
   "source": [
    "This script uses previously made files of AgingLists for META or REAN data sets.\n",
    "If you did not compiled those files, run *make_aging_list.py* first"
   ]
  },
  {
   "cell_type": "markdown",
   "metadata": {},
   "source": [
    "Here we make a pyramid draw for signature sets\n",
    "all data originate from source file with 3 columns:\n",
    "gene names, frequencies of appearance, average fold change\n",
    "that source file is made with *make_aging_list.py*\n",
    "\n",
    "First import needed packages"
   ]
  },
  {
   "cell_type": "code",
   "execution_count": 13,
   "metadata": {},
   "outputs": [],
   "source": [
    "import matplotlib.pyplot as plt, math\n",
    "from matplotlib.collections import PatchCollection\n",
    "from matplotlib.patches import Rectangle"
   ]
  },
  {
   "cell_type": "markdown",
   "metadata": {},
   "source": [
    "open source file and read the data\n",
    "below is reanalysed data set. Add a directory name to the file name if the source file is not in the same directory as this file. \n",
    "We will collect: \n",
    "all gene names: names\n",
    "their frequencies of citation: freqs\n",
    "their average fold change: folds"
   ]
  },
  {
   "cell_type": "code",
   "execution_count": 46,
   "metadata": {},
   "outputs": [],
   "source": [
    "f_in=open(\"Aging_List_REAN.txt\",\"r\")\n",
    "names,freqs,folds=[],[],[]\n",
    "lines=f_in.readlines()\n",
    "for line in lines[1:]: #skip the title line\n",
    "    items=line.rstrip().split('\\t')\n",
    "    names.append(items[0])\n",
    "    freqs.append(int(items[1]))\n",
    "    folds.append(float(items[2])) "
   ]
  },
  {
   "cell_type": "markdown",
   "metadata": {},
   "source": [
    "If you want to use META data, use the block below"
   ]
  },
  {
   "cell_type": "code",
   "execution_count": 15,
   "metadata": {},
   "outputs": [],
   "source": [
    "f_in=open(\"Aging_List_META.txt\",\"r\")\n",
    "names,freqs,folds=[],[],[]\n",
    "lines=f_in.readlines()\n",
    "for line in lines[1:]:\n",
    "    items=line.rstrip().split('\\t')\n",
    "    names.append(items[0])\n",
    "    freqs.append(int(items[1]))\n",
    "    folds.append(float(items[2]))"
   ]
  },
  {
   "cell_type": "markdown",
   "metadata": {},
   "source": [
    "Check imported data"
   ]
  },
  {
   "cell_type": "code",
   "execution_count": 47,
   "metadata": {},
   "outputs": [
    {
     "name": "stdout",
     "output_type": "stream",
     "text": [
      "check data 6259 6259 6259\n",
      "check freqs groups 1 10\n"
     ]
    }
   ],
   "source": [
    "print(\"check data\", len(names),len(freqs),len(folds))\n",
    "print(\"check freqs groups\", min(freqs), max(freqs))"
   ]
  },
  {
   "cell_type": "markdown",
   "metadata": {},
   "source": [
    "count number of positively and negatively changing genes in each frequency group"
   ]
  },
  {
   "cell_type": "code",
   "execution_count": 48,
   "metadata": {},
   "outputs": [],
   "source": [
    "\"generate freqs for pyramid\"\n",
    "negatives, positives, allnames=[],[],[]\n",
    "for i in range(min(freqs),max(freqs)+1):\n",
    "    pos,neg=[],[]\n",
    "    for j in range(len(freqs)):\n",
    "        if freqs[j]==i:\n",
    "            if folds[j]>0:\n",
    "                pos.append(names[j])\n",
    "            else:\n",
    "                neg.append(names[j])\n",
    "    negatives.append(len(neg))\n",
    "    positives.append(len(pos))\n",
    "    allnames.append([pos,neg])\n",
    "    "
   ]
  },
  {
   "cell_type": "markdown",
   "metadata": {},
   "source": [
    "There might be many ways of drawing boxes, I use one of them, maybe not the shortest, but it worked. Plotting script works only with all components in one block. Therefore it comes as one block."
   ]
  },
  {
   "cell_type": "code",
   "execution_count": 49,
   "metadata": {},
   "outputs": [
    {
     "name": "stdout",
     "output_type": "stream",
     "text": [
      "Ezh2  negative\n",
      "Sell  negative\n",
      "Ezh1  positive\n",
      "Selp  positive\n"
     ]
    },
    {
     "data": {
      "image/png": "[encoded data removed]",
      "text/plain": [
       "<Figure size 432x288 with 1 Axes>"
      ]
     },
     "metadata": {
      "needs_background": "light"
     },
     "output_type": "display_data"
    }
   ],
   "source": [
    "#make boxes for groups of frequencies, positive and negative separately\n",
    "\n",
    "boxes=[] #boxes are for positive boxes\n",
    "for i in range(len(positives)):\n",
    "    rect = Rectangle((0,i*9), math.log2(positives[i]+1),8)\n",
    "    boxes.append(rect)\n",
    "\n",
    "fig, ax = plt.subplots()\n",
    "\n",
    "    # Create patch collection with specified colour/alpha\n",
    "pc = PatchCollection(boxes, facecolor=\"red\", alpha=0.9,\n",
    "                         edgecolor=\"black\")\n",
    "\n",
    "anti=[] #anti are for negative boxes\n",
    "for i in range(len(negatives)):\n",
    "    rect = Rectangle((0,i*9), -math.log2(negatives[i]+1),8)\n",
    "    anti.append(rect)\n",
    "\n",
    "ac = PatchCollection(anti, facecolor=\"blue\", alpha=0.9,\n",
    "                         edgecolor=\"black\")\n",
    "\n",
    "#here are declarations for x and y limits, also x and y labels\n",
    "plt.xlim(-20,20)\n",
    "plt.ylim(0,120)\n",
    "plt.xlabel(\"Log2 Gene list length)\")\n",
    "plt.ylabel(\"Groups by intersecting frequencies\")\n",
    "plt.yticks([],[])\n",
    "\n",
    "    # Add collection to axes\n",
    "ax.add_collection(pc)\n",
    "ax.add_collection(ac)\n",
    "\n",
    "\"show groups sizes\"\n",
    "for i in range(len(negatives)):\n",
    "    plt.text(-19,i*9+1,negatives[i])\n",
    "for i in range(len(positives)):\n",
    "    plt.text(17,i*9+1,positives[i])\n",
    "\n",
    "\n",
    "#here I select two names I want to see it on the pyramid plot\n",
    "my_name=[\"Ezh1\", \"Ezh2\" ,\"Sell\", \"Sele\",\"Selp\"]\n",
    "for i in range(len(allnames)):\n",
    "\n",
    "    for name in my_name:\n",
    "        if name in allnames[i][0]:\n",
    "            pos = folds[names.index(name)] * 2\n",
    "            print(name, \" positive\")\n",
    "            plt.text(pos,i*9+1,name, color=\"blue\", weight=\"bold\") #was2\n",
    "        if name in allnames[i][1]:\n",
    "            pos = folds[names.index(name)] * 2\n",
    "            print(name, \" negative\")\n",
    "            plt.text(pos-1, i * 9 + 1, name, color=\"Yellow\", weight=\"bold\")\n",
    "plt.show()"
   ]
  },
  {
   "cell_type": "markdown",
   "metadata": {},
   "source": [
    "Pay attention to the WEB browser you use. I routinely use Safari in Mac"
   ]
  }
 ],
 "metadata": {
  "kernelspec": {
   "display_name": "Python 3",
   "language": "python",
   "name": "python3"
  },
  "language_info": {
   "codemirror_mode": {
    "name": "ipython",
    "version": 3
   },
   "file_extension": ".py",
   "mimetype": "text/x-python",
   "name": "python",
   "nbconvert_exporter": "python",
   "pygments_lexer": "ipython3",
   "version": "3.7.2"
  }
 },
 "nbformat": 4,
 "nbformat_minor": 2
}
